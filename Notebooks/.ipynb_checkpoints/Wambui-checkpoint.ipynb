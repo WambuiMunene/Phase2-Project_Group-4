{
 "cells": [
  {
   "cell_type": "markdown",
   "id": "d13e211d",
   "metadata": {},
   "source": [
    "\n",
    "* Student name: Wambui Munene\n",
    "* Student pace: DSPT08\n",
    "* Scheduled project review date/time: 15/11/2024\n",
    "* Instructor name: Samuel Karu\n",
    "\n"
   ]
  },
  {
   "cell_type": "markdown",
   "id": "c8ff43e5",
   "metadata": {},
   "source": [
    "### Introduction\n",
    "\n",
    "In this analysis, we will be analysing fuel consumption data and carbon dioxide emmisions data for new light-duty vehicles available for sale in Canada.We aim to understand, using data, the relationship between vehicle makes and models, engine size, number of cylinders, transmissiom type and the type of fuel on fuel economy and the resulting carbon footprint. We will use a dataset from https://www.kaggle.com/  based on original data from https://open.canada.ca/data/en/dataset/98f1a129-f628-4ce4-b24d-6f16bf24dd64"
   ]
  },
  {
   "cell_type": "markdown",
   "id": "4fa21be7",
   "metadata": {},
   "source": [
    "### Problem Statement\n",
    "\n",
    "Our Data Science Consulting Firm has been hired by Canadian start-up firm, that is venturing into the budget car rental business. Their mission is to provide a low-priced car rental model to cater for a demographic that is price and environmental conscious. They have tasked us to analyze different car makes, models and vehicle class to determine the most fuel effective models with the least carbon emmisions. Because car models are ever changing, they would want to understand the factors that drive those 2 variables and would like us to develop for them a predictive model that they can use to evaluate future car models that enter the market."
   ]
  },
  {
   "cell_type": "markdown",
   "id": "2e9e216a",
   "metadata": {},
   "source": [
    "### Objectives\n",
    "\n",
    "Our analysis will consist of 6 main tasks:-\n",
    "\n",
    "1. Industry Background: This will include background understanding of the car industry and especially the relationships between the type of fuel used, fuel consumption and carbon dioxide emissions. To do this we will perform background internet reserach from sites such as https://www.greenvehicleguide.gov.au/pages/UnderstandingEmissions/VehicleEmissions and https://climate.ec.europa.eu/news-your-voice/news/publication-real-world-co2-emissions-and-fuel-consumption-cars-and-vans-. https://iopscience.iop.org/article/10.1088/1755-1315/214/1/012136/pdf\n",
    "\n",
    "\n",
    "2. Understand the dataset - Understand the acronyms/technical terms used in the data set, review the shape and type of the data, understand the numerical and categorical columns, review the missing values and make a decision on how to deal with the Null values (drop or replace), look for duplicates and drop them, drop any unnecessary columns that are not useful for the analysis, add new colums if necessary for better analysis and prepare the data for EDA. \n",
    "\n",
    "\n",
    "3. Perform Exploratory Data Analysis (EDA) on the data - Analyse different makes, models and vehicle classes on their fuel econonomy and carbon emmisions to identify the most efficient models for both variables for each vehicle class. We will use visualizations such as histograms and piecharts. We will also analyze the correlation between such features as engine, size, fuel type, transmission type, and the number of cylinders on fuel efficiency and carbon emmision, to determine what are the features that most influential. We will aslo employ such visualizations as scatterplots and heatmaps. \n",
    "\n",
    "\n",
    "4. Conduct  statitistical Hypothetical tests to determine the statistical significance of the variables such as engine size, fuel type, transmision type on fuel economy and carborn emissions\n",
    "\n",
    "\n",
    "5. Build a Predictive Regression Model to predict fuel economy and carbon emissions to evaluate future car models.\n",
    "\n",
    "\n",
    "6. Summarize our findings and give conclusions and recomendations to our client on the mix of car models to consider for their business and provide them with a predictive model to guide them on future purchases."
   ]
  },
  {
   "cell_type": "markdown",
   "id": "6cb64f00",
   "metadata": {},
   "source": [
    "### 1.0 Understanding the DataSet"
   ]
  },
  {
   "cell_type": "markdown",
   "id": "04d809cb",
   "metadata": {},
   "source": [
    "From the Data Card in the Kaggle dataset, we have obtained the following explanations about the abbreviations used:\n",
    "\n",
    "**Model**\n",
    "\n",
    "4WD/4X4 = Four-wheel drive;\n",
    "AWD = All-wheel drive;\n",
    "CNG = Compressed natural gas;\n",
    "FFV = Flexible-fuel vehicle;\n",
    "NGV = Natural gas vehicle\n",
    "\n",
    "**Transmission**\n",
    "\n",
    "A = Automatic; \n",
    "AM = Automated manual; \n",
    "AS = Automatic with select shift; \n",
    "AV = Continuously variable; \n",
    "M = Manual; \n",
    "3 - 10 = Number of gears\n",
    "\n",
    "**Fuel Type**\n",
    "\n",
    "X = Regular gasoline:\n",
    "Z = Premium gasoline:\n",
    "D = Diesel:\n",
    "E = Ethanol (E85);\n",
    "N = Natural Gas\n",
    "\n",
    "**Fuel Consumption**\n",
    "City and highway fuel consumption ratings are shown in litres per 100 kilometres (L/100 km) - combined rating (55% city, 45% hwy) is shown in L/100 km and in miles per imperial gallon (mpg)\n",
    "CO2 Emissions (g/km),Estimated tailpipe carbon dioxide emissions (in grams per kilometre) are based on fuel type and the combined fuel consumption rating."
   ]
  },
  {
   "cell_type": "markdown",
   "id": "c5ceb5d3",
   "metadata": {},
   "source": [
    "### 1.1 Data Understanding and Cleaning"
   ]
  },
  {
   "cell_type": "code",
   "execution_count": 1,
   "id": "eeeac721",
   "metadata": {},
   "outputs": [],
   "source": [
    "# Import the necessary libraries for data analysis and visualization\n",
    "import numpy as np\n",
    "import pandas as pd\n",
    "import matplotlib.pyplot as plt\n",
    "import seaborn as sns\n",
    "%matplotlib inline"
   ]
  },
  {
   "cell_type": "code",
   "execution_count": 2,
   "id": "8091211d",
   "metadata": {},
   "outputs": [
    {
     "data": {
      "text/html": [
       "<div>\n",
       "<style scoped>\n",
       "    .dataframe tbody tr th:only-of-type {\n",
       "        vertical-align: middle;\n",
       "    }\n",
       "\n",
       "    .dataframe tbody tr th {\n",
       "        vertical-align: top;\n",
       "    }\n",
       "\n",
       "    .dataframe thead th {\n",
       "        text-align: right;\n",
       "    }\n",
       "</style>\n",
       "<table border=\"1\" class=\"dataframe\">\n",
       "  <thead>\n",
       "    <tr style=\"text-align: right;\">\n",
       "      <th></th>\n",
       "      <th>YEAR</th>\n",
       "      <th>MAKE</th>\n",
       "      <th>MODEL</th>\n",
       "      <th>VEHICLE CLASS</th>\n",
       "      <th>ENGINE SIZE</th>\n",
       "      <th>CYLINDERS</th>\n",
       "      <th>TRANSMISSION</th>\n",
       "      <th>FUEL</th>\n",
       "      <th>FUEL CONSUMPTION</th>\n",
       "      <th>HWY (L/100 km)</th>\n",
       "      <th>COMB (L/100 km)</th>\n",
       "      <th>COMB (mpg)</th>\n",
       "      <th>EMISSIONS</th>\n",
       "    </tr>\n",
       "  </thead>\n",
       "  <tbody>\n",
       "    <tr>\n",
       "      <th>0</th>\n",
       "      <td>2000</td>\n",
       "      <td>ACURA</td>\n",
       "      <td>1.6EL</td>\n",
       "      <td>COMPACT</td>\n",
       "      <td>1.6</td>\n",
       "      <td>4</td>\n",
       "      <td>A4</td>\n",
       "      <td>X</td>\n",
       "      <td>9.2</td>\n",
       "      <td>6.7</td>\n",
       "      <td>8.1</td>\n",
       "      <td>35</td>\n",
       "      <td>186</td>\n",
       "    </tr>\n",
       "    <tr>\n",
       "      <th>1</th>\n",
       "      <td>2000</td>\n",
       "      <td>ACURA</td>\n",
       "      <td>1.6EL</td>\n",
       "      <td>COMPACT</td>\n",
       "      <td>1.6</td>\n",
       "      <td>4</td>\n",
       "      <td>M5</td>\n",
       "      <td>X</td>\n",
       "      <td>8.5</td>\n",
       "      <td>6.5</td>\n",
       "      <td>7.6</td>\n",
       "      <td>37</td>\n",
       "      <td>175</td>\n",
       "    </tr>\n",
       "    <tr>\n",
       "      <th>2</th>\n",
       "      <td>2000</td>\n",
       "      <td>ACURA</td>\n",
       "      <td>3.2TL</td>\n",
       "      <td>MID-SIZE</td>\n",
       "      <td>3.2</td>\n",
       "      <td>6</td>\n",
       "      <td>AS5</td>\n",
       "      <td>Z</td>\n",
       "      <td>12.2</td>\n",
       "      <td>7.4</td>\n",
       "      <td>10.0</td>\n",
       "      <td>28</td>\n",
       "      <td>230</td>\n",
       "    </tr>\n",
       "    <tr>\n",
       "      <th>3</th>\n",
       "      <td>2000</td>\n",
       "      <td>ACURA</td>\n",
       "      <td>3.5RL</td>\n",
       "      <td>MID-SIZE</td>\n",
       "      <td>3.5</td>\n",
       "      <td>6</td>\n",
       "      <td>A4</td>\n",
       "      <td>Z</td>\n",
       "      <td>13.4</td>\n",
       "      <td>9.2</td>\n",
       "      <td>11.5</td>\n",
       "      <td>25</td>\n",
       "      <td>264</td>\n",
       "    </tr>\n",
       "    <tr>\n",
       "      <th>4</th>\n",
       "      <td>2000</td>\n",
       "      <td>ACURA</td>\n",
       "      <td>INTEGRA</td>\n",
       "      <td>SUBCOMPACT</td>\n",
       "      <td>1.8</td>\n",
       "      <td>4</td>\n",
       "      <td>A4</td>\n",
       "      <td>X</td>\n",
       "      <td>10.0</td>\n",
       "      <td>7.0</td>\n",
       "      <td>8.6</td>\n",
       "      <td>33</td>\n",
       "      <td>198</td>\n",
       "    </tr>\n",
       "  </tbody>\n",
       "</table>\n",
       "</div>"
      ],
      "text/plain": [
       "   YEAR   MAKE    MODEL VEHICLE CLASS  ENGINE SIZE  CYLINDERS TRANSMISSION  \\\n",
       "0  2000  ACURA    1.6EL       COMPACT          1.6          4           A4   \n",
       "1  2000  ACURA    1.6EL       COMPACT          1.6          4           M5   \n",
       "2  2000  ACURA    3.2TL      MID-SIZE          3.2          6          AS5   \n",
       "3  2000  ACURA    3.5RL      MID-SIZE          3.5          6           A4   \n",
       "4  2000  ACURA  INTEGRA    SUBCOMPACT          1.8          4           A4   \n",
       "\n",
       "  FUEL  FUEL CONSUMPTION  HWY (L/100 km)  COMB (L/100 km)  COMB (mpg)  \\\n",
       "0    X               9.2             6.7              8.1          35   \n",
       "1    X               8.5             6.5              7.6          37   \n",
       "2    Z              12.2             7.4             10.0          28   \n",
       "3    Z              13.4             9.2             11.5          25   \n",
       "4    X              10.0             7.0              8.6          33   \n",
       "\n",
       "   EMISSIONS  \n",
       "0        186  \n",
       "1        175  \n",
       "2        230  \n",
       "3        264  \n",
       "4        198  "
      ]
     },
     "execution_count": 2,
     "metadata": {},
     "output_type": "execute_result"
    }
   ],
   "source": [
    "# Load the data as a dataframe and dsplay the first 5 rows\n",
    "\n",
    "data = pd.read_csv('../Data/Fuel_Consumption_2000_2022.csv')\n",
    "data.head()"
   ]
  },
  {
   "cell_type": "code",
   "execution_count": 3,
   "id": "010e855a",
   "metadata": {},
   "outputs": [
    {
     "name": "stdout",
     "output_type": "stream",
     "text": [
      "This data set consists of 22556 rows\n",
      "This data set consists of 13 columns\n"
     ]
    }
   ],
   "source": [
    "# check the shape of the data\n",
    "data.shape\n",
    "print(f\"This data set consists of {data.shape[0]} rows\")\n",
    "print(f\"This data set consists of {data.shape[1]} columns\")"
   ]
  },
  {
   "cell_type": "code",
   "execution_count": 4,
   "id": "5c80b457",
   "metadata": {},
   "outputs": [
    {
     "data": {
      "text/plain": [
       "Index(['YEAR', 'MAKE', 'MODEL', 'VEHICLE CLASS', 'ENGINE SIZE', 'CYLINDERS',\n",
       "       'TRANSMISSION', 'FUEL', 'FUEL CONSUMPTION', 'HWY (L/100 km)',\n",
       "       'COMB (L/100 km)', 'COMB (mpg)', 'EMISSIONS'],\n",
       "      dtype='object')"
      ]
     },
     "execution_count": 4,
     "metadata": {},
     "output_type": "execute_result"
    }
   ],
   "source": [
    "data.columns"
   ]
  },
  {
   "cell_type": "code",
   "execution_count": 5,
   "id": "b9b15607",
   "metadata": {},
   "outputs": [
    {
     "data": {
      "text/html": [
       "<div>\n",
       "<style scoped>\n",
       "    .dataframe tbody tr th:only-of-type {\n",
       "        vertical-align: middle;\n",
       "    }\n",
       "\n",
       "    .dataframe tbody tr th {\n",
       "        vertical-align: top;\n",
       "    }\n",
       "\n",
       "    .dataframe thead th {\n",
       "        text-align: right;\n",
       "    }\n",
       "</style>\n",
       "<table border=\"1\" class=\"dataframe\">\n",
       "  <thead>\n",
       "    <tr style=\"text-align: right;\">\n",
       "      <th></th>\n",
       "      <th>Year</th>\n",
       "      <th>Make</th>\n",
       "      <th>Model</th>\n",
       "      <th>Vehicle Class</th>\n",
       "      <th>Engine Size</th>\n",
       "      <th>Cylinders</th>\n",
       "      <th>Transmission</th>\n",
       "      <th>Fuel</th>\n",
       "      <th>Fuel Consumption</th>\n",
       "      <th>Hwy (L/100 Km)</th>\n",
       "      <th>Comb (L/100 Km)</th>\n",
       "      <th>Comb (Mpg)</th>\n",
       "      <th>Emissions</th>\n",
       "    </tr>\n",
       "  </thead>\n",
       "  <tbody>\n",
       "    <tr>\n",
       "      <th>0</th>\n",
       "      <td>2000</td>\n",
       "      <td>ACURA</td>\n",
       "      <td>1.6EL</td>\n",
       "      <td>COMPACT</td>\n",
       "      <td>1.6</td>\n",
       "      <td>4</td>\n",
       "      <td>A4</td>\n",
       "      <td>X</td>\n",
       "      <td>9.2</td>\n",
       "      <td>6.7</td>\n",
       "      <td>8.1</td>\n",
       "      <td>35</td>\n",
       "      <td>186</td>\n",
       "    </tr>\n",
       "    <tr>\n",
       "      <th>1</th>\n",
       "      <td>2000</td>\n",
       "      <td>ACURA</td>\n",
       "      <td>1.6EL</td>\n",
       "      <td>COMPACT</td>\n",
       "      <td>1.6</td>\n",
       "      <td>4</td>\n",
       "      <td>M5</td>\n",
       "      <td>X</td>\n",
       "      <td>8.5</td>\n",
       "      <td>6.5</td>\n",
       "      <td>7.6</td>\n",
       "      <td>37</td>\n",
       "      <td>175</td>\n",
       "    </tr>\n",
       "    <tr>\n",
       "      <th>2</th>\n",
       "      <td>2000</td>\n",
       "      <td>ACURA</td>\n",
       "      <td>3.2TL</td>\n",
       "      <td>MID-SIZE</td>\n",
       "      <td>3.2</td>\n",
       "      <td>6</td>\n",
       "      <td>AS5</td>\n",
       "      <td>Z</td>\n",
       "      <td>12.2</td>\n",
       "      <td>7.4</td>\n",
       "      <td>10.0</td>\n",
       "      <td>28</td>\n",
       "      <td>230</td>\n",
       "    </tr>\n",
       "    <tr>\n",
       "      <th>3</th>\n",
       "      <td>2000</td>\n",
       "      <td>ACURA</td>\n",
       "      <td>3.5RL</td>\n",
       "      <td>MID-SIZE</td>\n",
       "      <td>3.5</td>\n",
       "      <td>6</td>\n",
       "      <td>A4</td>\n",
       "      <td>Z</td>\n",
       "      <td>13.4</td>\n",
       "      <td>9.2</td>\n",
       "      <td>11.5</td>\n",
       "      <td>25</td>\n",
       "      <td>264</td>\n",
       "    </tr>\n",
       "    <tr>\n",
       "      <th>4</th>\n",
       "      <td>2000</td>\n",
       "      <td>ACURA</td>\n",
       "      <td>INTEGRA</td>\n",
       "      <td>SUBCOMPACT</td>\n",
       "      <td>1.8</td>\n",
       "      <td>4</td>\n",
       "      <td>A4</td>\n",
       "      <td>X</td>\n",
       "      <td>10.0</td>\n",
       "      <td>7.0</td>\n",
       "      <td>8.6</td>\n",
       "      <td>33</td>\n",
       "      <td>198</td>\n",
       "    </tr>\n",
       "  </tbody>\n",
       "</table>\n",
       "</div>"
      ],
      "text/plain": [
       "   Year   Make    Model Vehicle Class  Engine Size  Cylinders Transmission  \\\n",
       "0  2000  ACURA    1.6EL       COMPACT          1.6          4           A4   \n",
       "1  2000  ACURA    1.6EL       COMPACT          1.6          4           M5   \n",
       "2  2000  ACURA    3.2TL      MID-SIZE          3.2          6          AS5   \n",
       "3  2000  ACURA    3.5RL      MID-SIZE          3.5          6           A4   \n",
       "4  2000  ACURA  INTEGRA    SUBCOMPACT          1.8          4           A4   \n",
       "\n",
       "  Fuel  Fuel Consumption  Hwy (L/100 Km)  Comb (L/100 Km)  Comb (Mpg)  \\\n",
       "0    X               9.2             6.7              8.1          35   \n",
       "1    X               8.5             6.5              7.6          37   \n",
       "2    Z              12.2             7.4             10.0          28   \n",
       "3    Z              13.4             9.2             11.5          25   \n",
       "4    X              10.0             7.0              8.6          33   \n",
       "\n",
       "   Emissions  \n",
       "0        186  \n",
       "1        175  \n",
       "2        230  \n",
       "3        264  \n",
       "4        198  "
      ]
     },
     "execution_count": 5,
     "metadata": {},
     "output_type": "execute_result"
    }
   ],
   "source": [
    "# Change column names to sentence case\n",
    "\n",
    "data.columns = data.columns.str.title()\n",
    "data.head()"
   ]
  },
  {
   "cell_type": "code",
   "execution_count": 6,
   "id": "22cd1b1b",
   "metadata": {},
   "outputs": [
    {
     "name": "stdout",
     "output_type": "stream",
     "text": [
      "<class 'pandas.core.frame.DataFrame'>\n",
      "RangeIndex: 22556 entries, 0 to 22555\n",
      "Data columns (total 13 columns):\n",
      " #   Column            Non-Null Count  Dtype  \n",
      "---  ------            --------------  -----  \n",
      " 0   Year              22556 non-null  int64  \n",
      " 1   Make              22556 non-null  object \n",
      " 2   Model             22556 non-null  object \n",
      " 3   Vehicle Class     22556 non-null  object \n",
      " 4   Engine Size       22556 non-null  float64\n",
      " 5   Cylinders         22556 non-null  int64  \n",
      " 6   Transmission      22556 non-null  object \n",
      " 7   Fuel              22556 non-null  object \n",
      " 8   Fuel Consumption  22556 non-null  float64\n",
      " 9   Hwy (L/100 Km)    22556 non-null  float64\n",
      " 10  Comb (L/100 Km)   22556 non-null  float64\n",
      " 11  Comb (Mpg)        22556 non-null  int64  \n",
      " 12  Emissions         22556 non-null  int64  \n",
      "dtypes: float64(4), int64(4), object(5)\n",
      "memory usage: 2.2+ MB\n"
     ]
    }
   ],
   "source": [
    "# get column attributes\n",
    "data.info()\n"
   ]
  },
  {
   "cell_type": "markdown",
   "id": "48ebb30f",
   "metadata": {},
   "source": [
    "From the column attributes the data does not have any null values. Also the columns that we expect to be numerical are well formatted as int or float. Categorical columns are likewise well formatted as objects. The date column needs to be converted to date format."
   ]
  },
  {
   "cell_type": "code",
   "execution_count": 7,
   "id": "3dd1961f",
   "metadata": {},
   "outputs": [
    {
     "name": "stdout",
     "output_type": "stream",
     "text": [
      "<class 'pandas.core.frame.DataFrame'>\n",
      "RangeIndex: 22556 entries, 0 to 22555\n",
      "Data columns (total 13 columns):\n",
      " #   Column            Non-Null Count  Dtype         \n",
      "---  ------            --------------  -----         \n",
      " 0   Year              22556 non-null  datetime64[ns]\n",
      " 1   Make              22556 non-null  object        \n",
      " 2   Model             22556 non-null  object        \n",
      " 3   Vehicle Class     22556 non-null  object        \n",
      " 4   Engine Size       22556 non-null  float64       \n",
      " 5   Cylinders         22556 non-null  int64         \n",
      " 6   Transmission      22556 non-null  object        \n",
      " 7   Fuel              22556 non-null  object        \n",
      " 8   Fuel Consumption  22556 non-null  float64       \n",
      " 9   Hwy (L/100 Km)    22556 non-null  float64       \n",
      " 10  Comb (L/100 Km)   22556 non-null  float64       \n",
      " 11  Comb (Mpg)        22556 non-null  int64         \n",
      " 12  Emissions         22556 non-null  int64         \n",
      "dtypes: datetime64[ns](1), float64(4), int64(3), object(5)\n",
      "memory usage: 2.2+ MB\n"
     ]
    }
   ],
   "source": [
    "# Convert the 'Year' column to datetime \n",
    "\n",
    "data['Year'] = pd.to_datetime(data['Year'])\n",
    "data.info()"
   ]
  },
  {
   "cell_type": "code",
   "execution_count": 8,
   "id": "90c785f6",
   "metadata": {},
   "outputs": [
    {
     "data": {
      "text/plain": [
       "False"
      ]
     },
     "execution_count": 8,
     "metadata": {},
     "output_type": "execute_result"
    }
   ],
   "source": [
    "# confirming there are no Null values\n",
    "\n",
    "data.isnull().values.any()\n"
   ]
  },
  {
   "cell_type": "code",
   "execution_count": 9,
   "id": "83f2ebe3",
   "metadata": {},
   "outputs": [
    {
     "data": {
      "text/html": [
       "<div>\n",
       "<style scoped>\n",
       "    .dataframe tbody tr th:only-of-type {\n",
       "        vertical-align: middle;\n",
       "    }\n",
       "\n",
       "    .dataframe tbody tr th {\n",
       "        vertical-align: top;\n",
       "    }\n",
       "\n",
       "    .dataframe thead th {\n",
       "        text-align: right;\n",
       "    }\n",
       "</style>\n",
       "<table border=\"1\" class=\"dataframe\">\n",
       "  <thead>\n",
       "    <tr style=\"text-align: right;\">\n",
       "      <th></th>\n",
       "      <th>count</th>\n",
       "      <th>mean</th>\n",
       "      <th>min</th>\n",
       "      <th>25%</th>\n",
       "      <th>50%</th>\n",
       "      <th>75%</th>\n",
       "      <th>max</th>\n",
       "      <th>std</th>\n",
       "    </tr>\n",
       "  </thead>\n",
       "  <tbody>\n",
       "    <tr>\n",
       "      <th>Year</th>\n",
       "      <td>22556</td>\n",
       "      <td>1970-01-01 00:00:00.000002011</td>\n",
       "      <td>1970-01-01 00:00:00.000002</td>\n",
       "      <td>1970-01-01 00:00:00.000002006</td>\n",
       "      <td>1970-01-01 00:00:00.000002012</td>\n",
       "      <td>1970-01-01 00:00:00.000002017</td>\n",
       "      <td>1970-01-01 00:00:00.000002022</td>\n",
       "      <td>NaN</td>\n",
       "    </tr>\n",
       "    <tr>\n",
       "      <th>Engine Size</th>\n",
       "      <td>22556.0</td>\n",
       "      <td>3.356646</td>\n",
       "      <td>0.8</td>\n",
       "      <td>2.3</td>\n",
       "      <td>3.0</td>\n",
       "      <td>4.2</td>\n",
       "      <td>8.4</td>\n",
       "      <td>1.335425</td>\n",
       "    </tr>\n",
       "    <tr>\n",
       "      <th>Cylinders</th>\n",
       "      <td>22556.0</td>\n",
       "      <td>5.854141</td>\n",
       "      <td>2.0</td>\n",
       "      <td>4.0</td>\n",
       "      <td>6.0</td>\n",
       "      <td>8.0</td>\n",
       "      <td>16.0</td>\n",
       "      <td>1.819597</td>\n",
       "    </tr>\n",
       "    <tr>\n",
       "      <th>Fuel Consumption</th>\n",
       "      <td>22556.0</td>\n",
       "      <td>12.763513</td>\n",
       "      <td>3.5</td>\n",
       "      <td>10.4</td>\n",
       "      <td>12.3</td>\n",
       "      <td>14.725</td>\n",
       "      <td>30.6</td>\n",
       "      <td>3.500999</td>\n",
       "    </tr>\n",
       "    <tr>\n",
       "      <th>Hwy (L/100 Km)</th>\n",
       "      <td>22556.0</td>\n",
       "      <td>8.919126</td>\n",
       "      <td>3.2</td>\n",
       "      <td>7.3</td>\n",
       "      <td>8.4</td>\n",
       "      <td>10.2</td>\n",
       "      <td>20.9</td>\n",
       "      <td>2.274764</td>\n",
       "    </tr>\n",
       "    <tr>\n",
       "      <th>Comb (L/100 Km)</th>\n",
       "      <td>22556.0</td>\n",
       "      <td>11.034341</td>\n",
       "      <td>3.6</td>\n",
       "      <td>9.1</td>\n",
       "      <td>10.6</td>\n",
       "      <td>12.7</td>\n",
       "      <td>26.1</td>\n",
       "      <td>2.91092</td>\n",
       "    </tr>\n",
       "    <tr>\n",
       "      <th>Comb (Mpg)</th>\n",
       "      <td>22556.0</td>\n",
       "      <td>27.374534</td>\n",
       "      <td>11.0</td>\n",
       "      <td>22.0</td>\n",
       "      <td>27.0</td>\n",
       "      <td>31.0</td>\n",
       "      <td>78.0</td>\n",
       "      <td>7.376982</td>\n",
       "    </tr>\n",
       "    <tr>\n",
       "      <th>Emissions</th>\n",
       "      <td>22556.0</td>\n",
       "      <td>250.068452</td>\n",
       "      <td>83.0</td>\n",
       "      <td>209.0</td>\n",
       "      <td>243.0</td>\n",
       "      <td>288.0</td>\n",
       "      <td>608.0</td>\n",
       "      <td>59.355276</td>\n",
       "    </tr>\n",
       "  </tbody>\n",
       "</table>\n",
       "</div>"
      ],
      "text/plain": [
       "                    count                           mean  \\\n",
       "Year                22556  1970-01-01 00:00:00.000002011   \n",
       "Engine Size       22556.0                       3.356646   \n",
       "Cylinders         22556.0                       5.854141   \n",
       "Fuel Consumption  22556.0                      12.763513   \n",
       "Hwy (L/100 Km)    22556.0                       8.919126   \n",
       "Comb (L/100 Km)   22556.0                      11.034341   \n",
       "Comb (Mpg)        22556.0                      27.374534   \n",
       "Emissions         22556.0                     250.068452   \n",
       "\n",
       "                                         min                            25%  \\\n",
       "Year              1970-01-01 00:00:00.000002  1970-01-01 00:00:00.000002006   \n",
       "Engine Size                              0.8                            2.3   \n",
       "Cylinders                                2.0                            4.0   \n",
       "Fuel Consumption                         3.5                           10.4   \n",
       "Hwy (L/100 Km)                           3.2                            7.3   \n",
       "Comb (L/100 Km)                          3.6                            9.1   \n",
       "Comb (Mpg)                              11.0                           22.0   \n",
       "Emissions                               83.0                          209.0   \n",
       "\n",
       "                                            50%  \\\n",
       "Year              1970-01-01 00:00:00.000002012   \n",
       "Engine Size                                 3.0   \n",
       "Cylinders                                   6.0   \n",
       "Fuel Consumption                           12.3   \n",
       "Hwy (L/100 Km)                              8.4   \n",
       "Comb (L/100 Km)                            10.6   \n",
       "Comb (Mpg)                                 27.0   \n",
       "Emissions                                 243.0   \n",
       "\n",
       "                                            75%  \\\n",
       "Year              1970-01-01 00:00:00.000002017   \n",
       "Engine Size                                 4.2   \n",
       "Cylinders                                   8.0   \n",
       "Fuel Consumption                         14.725   \n",
       "Hwy (L/100 Km)                             10.2   \n",
       "Comb (L/100 Km)                            12.7   \n",
       "Comb (Mpg)                                 31.0   \n",
       "Emissions                                 288.0   \n",
       "\n",
       "                                            max        std  \n",
       "Year              1970-01-01 00:00:00.000002022        NaN  \n",
       "Engine Size                                 8.4   1.335425  \n",
       "Cylinders                                  16.0   1.819597  \n",
       "Fuel Consumption                           30.6   3.500999  \n",
       "Hwy (L/100 Km)                             20.9   2.274764  \n",
       "Comb (L/100 Km)                            26.1    2.91092  \n",
       "Comb (Mpg)                                 78.0   7.376982  \n",
       "Emissions                                 608.0  59.355276  "
      ]
     },
     "execution_count": 9,
     "metadata": {},
     "output_type": "execute_result"
    }
   ],
   "source": [
    "# Get descriptive statistics of the numerical variables\n",
    "data.describe().T"
   ]
  },
  {
   "cell_type": "code",
   "execution_count": 10,
   "id": "db3460cd",
   "metadata": {},
   "outputs": [
    {
     "data": {
      "text/html": [
       "<div>\n",
       "<style scoped>\n",
       "    .dataframe tbody tr th:only-of-type {\n",
       "        vertical-align: middle;\n",
       "    }\n",
       "\n",
       "    .dataframe tbody tr th {\n",
       "        vertical-align: top;\n",
       "    }\n",
       "\n",
       "    .dataframe thead th {\n",
       "        text-align: right;\n",
       "    }\n",
       "</style>\n",
       "<table border=\"1\" class=\"dataframe\">\n",
       "  <thead>\n",
       "    <tr style=\"text-align: right;\">\n",
       "      <th></th>\n",
       "      <th>count</th>\n",
       "      <th>unique</th>\n",
       "      <th>top</th>\n",
       "      <th>freq</th>\n",
       "    </tr>\n",
       "  </thead>\n",
       "  <tbody>\n",
       "    <tr>\n",
       "      <th>Make</th>\n",
       "      <td>22556</td>\n",
       "      <td>87</td>\n",
       "      <td>CHEVROLET</td>\n",
       "      <td>1725</td>\n",
       "    </tr>\n",
       "    <tr>\n",
       "      <th>Model</th>\n",
       "      <td>22556</td>\n",
       "      <td>4242</td>\n",
       "      <td>JETTA</td>\n",
       "      <td>89</td>\n",
       "    </tr>\n",
       "    <tr>\n",
       "      <th>Vehicle Class</th>\n",
       "      <td>22556</td>\n",
       "      <td>32</td>\n",
       "      <td>SUV</td>\n",
       "      <td>2640</td>\n",
       "    </tr>\n",
       "    <tr>\n",
       "      <th>Transmission</th>\n",
       "      <td>22556</td>\n",
       "      <td>30</td>\n",
       "      <td>A4</td>\n",
       "      <td>3519</td>\n",
       "    </tr>\n",
       "    <tr>\n",
       "      <th>Fuel</th>\n",
       "      <td>22556</td>\n",
       "      <td>5</td>\n",
       "      <td>X</td>\n",
       "      <td>11822</td>\n",
       "    </tr>\n",
       "  </tbody>\n",
       "</table>\n",
       "</div>"
      ],
      "text/plain": [
       "               count unique        top   freq\n",
       "Make           22556     87  CHEVROLET   1725\n",
       "Model          22556   4242      JETTA     89\n",
       "Vehicle Class  22556     32        SUV   2640\n",
       "Transmission   22556     30         A4   3519\n",
       "Fuel           22556      5          X  11822"
      ]
     },
     "execution_count": 10,
     "metadata": {},
     "output_type": "execute_result"
    }
   ],
   "source": [
    "# Get the statistical summary of the categorical columns\n",
    "data.describe(include='O').T"
   ]
  },
  {
   "cell_type": "markdown",
   "id": "39bd9e3d",
   "metadata": {},
   "source": [
    "From the data the make, model, vehicle class, transmission and fuel type with the most frequencies are Chevrolet, Jetta, SUV, Auto with 4 gears, and regular gasoline."
   ]
  },
  {
   "cell_type": "code",
   "execution_count": 11,
   "id": "4faf20e0",
   "metadata": {},
   "outputs": [
    {
     "data": {
      "text/html": [
       "<div>\n",
       "<style scoped>\n",
       "    .dataframe tbody tr th:only-of-type {\n",
       "        vertical-align: middle;\n",
       "    }\n",
       "\n",
       "    .dataframe tbody tr th {\n",
       "        vertical-align: top;\n",
       "    }\n",
       "\n",
       "    .dataframe thead th {\n",
       "        text-align: right;\n",
       "    }\n",
       "</style>\n",
       "<table border=\"1\" class=\"dataframe\">\n",
       "  <thead>\n",
       "    <tr style=\"text-align: right;\">\n",
       "      <th></th>\n",
       "      <th>Year</th>\n",
       "      <th>Make</th>\n",
       "      <th>Model</th>\n",
       "      <th>Vehicle Class</th>\n",
       "      <th>Engine Size</th>\n",
       "      <th>Cylinders</th>\n",
       "      <th>Transmission</th>\n",
       "      <th>Fuel</th>\n",
       "      <th>Fuel Consumption</th>\n",
       "      <th>Hwy (L/100 Km)</th>\n",
       "      <th>Comb (L/100 Km)</th>\n",
       "      <th>Comb (Mpg)</th>\n",
       "      <th>Emissions</th>\n",
       "    </tr>\n",
       "  </thead>\n",
       "  <tbody>\n",
       "    <tr>\n",
       "      <th>378</th>\n",
       "      <td>1970-01-01 00:00:00.000002</td>\n",
       "      <td>LAND ROVER</td>\n",
       "      <td>DISCOVERY SERIES II 4X4</td>\n",
       "      <td>SUV</td>\n",
       "      <td>4.0</td>\n",
       "      <td>8</td>\n",
       "      <td>A4</td>\n",
       "      <td>Z</td>\n",
       "      <td>17.7</td>\n",
       "      <td>12.7</td>\n",
       "      <td>15.4</td>\n",
       "      <td>18</td>\n",
       "      <td>354</td>\n",
       "    </tr>\n",
       "  </tbody>\n",
       "</table>\n",
       "</div>"
      ],
      "text/plain": [
       "                          Year        Make                    Model  \\\n",
       "378 1970-01-01 00:00:00.000002  LAND ROVER  DISCOVERY SERIES II 4X4   \n",
       "\n",
       "    Vehicle Class  Engine Size  Cylinders Transmission Fuel  Fuel Consumption  \\\n",
       "378           SUV          4.0          8           A4    Z              17.7   \n",
       "\n",
       "     Hwy (L/100 Km)  Comb (L/100 Km)  Comb (Mpg)  Emissions  \n",
       "378            12.7             15.4          18        354  "
      ]
     },
     "execution_count": 11,
     "metadata": {},
     "output_type": "execute_result"
    }
   ],
   "source": [
    "# check for duplicates\n",
    "data[data.duplicated()]"
   ]
  },
  {
   "cell_type": "code",
   "execution_count": 12,
   "id": "6573051b",
   "metadata": {},
   "outputs": [],
   "source": [
    "# drop the duplicate row\n",
    "data.drop_duplicates(inplace=True)"
   ]
  },
  {
   "cell_type": "code",
   "execution_count": 13,
   "id": "f9eac7c7",
   "metadata": {},
   "outputs": [
    {
     "name": "stdout",
     "output_type": "stream",
     "text": [
      "This data set consists of 22555 rows\n",
      "This data set consists of 13 columns\n"
     ]
    }
   ],
   "source": [
    "# confirm the row is dropped\n",
    "data.shape\n",
    "print(f\"This data set consists of {data.shape[0]} rows\")\n",
    "print(f\"This data set consists of {data.shape[1]} columns\")"
   ]
  },
  {
   "cell_type": "markdown",
   "id": "0dfbd9b4",
   "metadata": {},
   "source": [
    "We now have one less row on the dataset"
   ]
  },
  {
   "cell_type": "code",
   "execution_count": 15,
   "id": "bbd7919e",
   "metadata": {},
   "outputs": [
    {
     "data": {
      "text/plain": [
       "array(['COMPACT', 'MID-SIZE', 'SUBCOMPACT', 'STATION WAGON - MID-SIZE',\n",
       "       'MINICOMPACT', 'TWO-SEATER', 'STATION WAGON - SMALL', 'FULL-SIZE',\n",
       "       'SUV', 'VAN - CARGO', 'VAN - PASSENGER', 'PICKUP TRUCK - STANDARD',\n",
       "       'PICKUP TRUCK - SMALL', 'MINIVAN', 'SUV - STANDARD',\n",
       "       'SPECIAL PURPOSE VEHICLE', 'SUV - SMALL', 'Compact', 'SUV: Small',\n",
       "       'Two-seater', 'Mid-size', 'Minicompact', 'Subcompact',\n",
       "       'Station wagon: Small', 'Full-size', 'SUV: Standard',\n",
       "       'Special purpose vehicle', 'Pickup truck: Small',\n",
       "       'Pickup truck: Standard', 'Minivan', 'Van: Passenger',\n",
       "       'Station wagon: Mid-size'], dtype=object)"
      ]
     },
     "execution_count": 15,
     "metadata": {},
     "output_type": "execute_result"
    }
   ],
   "source": [
    "unique_vehicle_classes = data['Vehicle Class'].unique()\n",
    "unique_vehicle_classes"
   ]
  },
  {
   "cell_type": "markdown",
   "id": "120ee137",
   "metadata": {},
   "source": [
    "We have duplicated names. Upper Case names are duplicates of the sentence case names."
   ]
  },
  {
   "cell_type": "code",
   "execution_count": 20,
   "id": "dbbb758d",
   "metadata": {},
   "outputs": [
    {
     "data": {
      "text/plain": [
       "array(['Compact', 'Mid-size', 'Subcompact', 'Station wagon: Mid-size',\n",
       "       'Minicompact', 'Two-seater', 'Station wagon: Small', 'Full-size',\n",
       "       'SUV: Standard', 'Van:Cargo', 'Van: Passenger',\n",
       "       'Pickup truck: Standard', 'Pickup truck: Small', 'Minivan',\n",
       "       'Suv: Standard', 'Special purpose vehicle', 'SUV: Small'],\n",
       "      dtype=object)"
      ]
     },
     "execution_count": 20,
     "metadata": {},
     "output_type": "execute_result"
    }
   ],
   "source": [
    "# Define the mapping to replace the Upper Case duplicates\n",
    "\n",
    "replace_dict = { 'COMPACT': 'Compact', 'MID-SIZE': 'Mid-size', 'SUBCOMPACT': 'Subcompact', \n",
    "                'STATION WAGON - MID-SIZE': 'Station wagon: Mid-size','MINICOMPACT': 'Minicompact',\n",
    "                'TWO-SEATER': 'Two-seater','STATION WAGON - SMALL': 'Station wagon: Small',\n",
    "                'FULL-SIZE': 'Full-size', 'SUV': 'SUV: Standard','VAN - CARGO':'Van:Cargo',\n",
    "                'VAN - PASSENGER':'Van: Passenger','PICKUP TRUCK - STANDARD':'Pickup truck: Standard',\n",
    "                'PICKUP TRUCK - SMALL':'Pickup truck: Small','MINIVAN': 'Minivan','SUV - STANDARD': 'Suv: Standard',\n",
    "                'SPECIAL PURPOSE VEHICLE': 'Special purpose vehicle','SUV - SMALL': 'SUV: Small'}\n",
    "\n",
    "# Replace the upper case duplicates \n",
    "data['Vehicle Class'] = data['Vehicle Class'].replace(replace_dict)\n",
    "data['Vehicle Class'].unique()\n",
    "               "
   ]
  },
  {
   "cell_type": "code",
   "execution_count": 25,
   "id": "3b355a37",
   "metadata": {},
   "outputs": [
    {
     "data": {
      "text/plain": [
       "array(['A4', 'M5', 'AS5', 'AS4', 'M6', 'A5', 'A3', 'AS6', 'AV', 'A6',\n",
       "       'AM6', 'A7', 'AM7', 'AS7', 'AS8', 'M4', 'A8', 'M7', 'AV7', 'AV8',\n",
       "       'AV6', 'AM5', 'A9', 'AS9', 'AM8', 'AM9', 'AS10', 'A10', 'AV10',\n",
       "       'AV1'], dtype=object)"
      ]
     },
     "execution_count": 25,
     "metadata": {},
     "output_type": "execute_result"
    }
   ],
   "source": [
    "unique_transmissions = data['Transmission'].unique()\n",
    "unique_transmissions"
   ]
  },
  {
   "cell_type": "markdown",
   "id": "23bdf61d",
   "metadata": {},
   "source": [
    "# Create 2 new columns for 'Engine Type' and 'Gears' from the transmission columns\n",
    "# Create new columns \n",
    "data['Trans_Type'] = df['Transmission'].str.extract(r'([A-Za-z]+)') df['Gears'] = df['Transmission'].str.extract(r'(\\d+)') # Convert Gears column to numeric type df['Gears'] = pd.to_numeric(df['Gears'], errors='coerce') # Display the updated DataFrame print(df)"
   ]
  }
 ],
 "metadata": {
  "kernelspec": {
   "display_name": "Python (learn-env)",
   "language": "python",
   "name": "learn-env"
  },
  "language_info": {
   "codemirror_mode": {
    "name": "ipython",
    "version": 3
   },
   "file_extension": ".py",
   "mimetype": "text/x-python",
   "name": "python",
   "nbconvert_exporter": "python",
   "pygments_lexer": "ipython3",
   "version": "3.8.16"
  }
 },
 "nbformat": 4,
 "nbformat_minor": 5
}
