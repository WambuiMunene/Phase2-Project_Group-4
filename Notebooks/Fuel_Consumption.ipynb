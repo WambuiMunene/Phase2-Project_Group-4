{
 "cells": [
  {
   "cell_type": "markdown",
   "metadata": {},
   "source": [
    "##  BUSINESS UNDERSTANDING"
   ]
  },
  {
   "cell_type": "markdown",
   "metadata": {},
   "source": [
    "# Overview"
   ]
  },
  {
   "cell_type": "markdown",
   "metadata": {},
   "source": [
    "In a car hire business you first need to understand the fleet composition and identify key patterns in car hire inventory based on attributes such as year, model, make, fuel consumption, and transmission type.Make data-driven decisions for fleet management, cost efficiency, and customer satisfaction.Newer cars may attract customers due to better feature and reliability while older cars may need more maintenance, potentially increasing operational cost.Popular models may dominate certain years, but variety is important for attracting different customer segments.Cars with better fuel efficiency reduce operational costs and appeal to environmentally-conscious customers.\n",
    "Transmission preference can vary by customer segment and region. For instance, tourists often prefer automatic cars because they are easier to drive in unfamiliar areas, especially with heavy traffic. On the other hand, manual cars can be more fuel-efficient and may appeal to price-conscious customers or those who prefer a more engaging driving experience.\n",
    "A car hire business can maximize its profitability and customer satisfaction by maintaining a fleet that is diverse, efficient, and tailored to the needs of its customers. By leveraging data on car characteristics like year, model, make, fuel consumption, and transmission type, the business can make informed decisions that improve fleet performance, operational costs, and customer experience."
   ]
  },
  {
   "cell_type": "markdown",
   "metadata": {},
   "source": [
    "#  Problem Statement"
   ]
  },
  {
   "cell_type": "markdown",
   "metadata": {},
   "source": [
    "The business is required to optimize the car fleet to meet customer demands, reduce operational costs, and maintain competitive pricing while ensuring customer satisfaction.\n",
    "The goal is to\n",
    "Optimize the fleet composition to meet customer demand for different makes, models, years, and transmission types.\n",
    "Incorporate fuel-efficient and environmentally-friendly vehicles to reduce costs and appeal to eco-conscious customers.\n",
    "Achieve a balance between automatic and manual cars based on customer preferences and regional demands.\n",
    "Leverage data-driven insights to make informed decisions about which cars to add, phase out, or replace to improve fleet performance, customer satisfaction, and profitability.\n",
    "The problem is about ensuring that the car hire business has an optimized fleet that aligns with customer needs, reduces operational costs, and stays competitive in the market. By addressing these challenges, the business can improve its operations, increase customer satisfaction, and drive profitability."
   ]
  },
  {
   "cell_type": "markdown",
   "metadata": {},
   "source": [
    "#  Objectives"
   ]
  },
  {
   "cell_type": "markdown",
   "metadata": {},
   "source": [
    "\n",
    "\n",
    "a. Analyze vehicle performance across different makes and models, through assesment of the fuel efficiency, emissions, and other performance metrics (such as engine size, number of cylinders, and transmission type) for various vehicle makes and models..\n",
    "\n",
    "b. Indentify the most popular vehicle classes for car rental Examine the relationship between vehicle class (e.g., compact, mid-size, subcompact) and rental market demand. Consider which classes are likely to appeal to different customer segments (business travelers, tourists, local renters).\n",
    "\n",
    "c. Evaluate the cost and environmental impact of potential fleet vehicles Using the datasets on fuel consumption and emissions to calculate the long-term operational costs and environmental impact of various makes and models.\n",
    "\n",
    "d. Perform a comparative analysis of vehicle makes and models.\n",
    "\n",
    "e. Assess vehicle longevity and maintenance costs by analysis of vehicle engine size, transmission type, and fuel consumption data to predict potential long-term maintenance costs and vehicle longevity for each make and model.\n"
   ]
  },
  {
   "cell_type": "markdown",
   "metadata": {},
   "source": [
    "#  Data Understanding"
   ]
  },
  {
   "cell_type": "markdown",
   "metadata": {},
   "source": [
    "The Dataset was collected in 2022 to improve energy efficiency, Track environmental impact by Monitoring fuel consumption is crucial to understanding its impact on greenhouse gas (GHG) emissions, as burning fossil fuels is one of the main contributors to CO₂ emissions. Governments and agencies need accurate fuel consumption data to assess their carbon footprint and meet climate goals and creating public awareness."
   ]
  },
  {
   "cell_type": "markdown",
   "metadata": {},
   "source": [
    "#  Data Preparation"
   ]
  },
  {
   "cell_type": "code",
   "execution_count": 2,
   "metadata": {},
   "outputs": [
    {
     "name": "stdout",
     "output_type": "stream",
     "text": [
      "Note: you may need to restart the kernel to use updated packages.Collecting statsmodels\n",
      "  Downloading statsmodels-0.14.4-cp312-cp312-win_amd64.whl.metadata (9.5 kB)\n",
      "Requirement already satisfied: numpy<3,>=1.22.3 in c:\\users\\admin\\appdata\\local\\programs\\python\\python312\\lib\\site-packages (from statsmodels) (2.0.1)\n",
      "Requirement already satisfied: scipy!=1.9.2,>=1.8 in c:\\users\\admin\\appdata\\local\\programs\\python\\python312\\lib\\site-packages (from statsmodels) (1.14.1)\n",
      "Requirement already satisfied: pandas!=2.1.0,>=1.4 in c:\\users\\admin\\appdata\\local\\programs\\python\\python312\\lib\\site-packages (from statsmodels) (2.2.2)\n",
      "Collecting patsy>=0.5.6 (from statsmodels)\n",
      "  Downloading patsy-0.5.6-py2.py3-none-any.whl.metadata (3.5 kB)\n",
      "Requirement already satisfied: packaging>=21.3 in c:\\users\\admin\\appdata\\roaming\\python\\python312\\site-packages (from statsmodels) (24.1)\n",
      "Requirement already satisfied: python-dateutil>=2.8.2 in c:\\users\\admin\\appdata\\roaming\\python\\python312\\site-packages (from pandas!=2.1.0,>=1.4->statsmodels) (2.9.0.post0)\n",
      "Requirement already satisfied: pytz>=2020.1 in c:\\users\\admin\\appdata\\local\\programs\\python\\python312\\lib\\site-packages (from pandas!=2.1.0,>=1.4->statsmodels) (2024.1)\n",
      "Requirement already satisfied: tzdata>=2022.7 in c:\\users\\admin\\appdata\\local\\programs\\python\\python312\\lib\\site-packages (from pandas!=2.1.0,>=1.4->statsmodels) (2024.1)\n",
      "Requirement already satisfied: six in c:\\users\\admin\\appdata\\roaming\\python\\python312\\site-packages (from patsy>=0.5.6->statsmodels) (1.16.0)\n",
      "Downloading statsmodels-0.14.4-cp312-cp312-win_amd64.whl (9.8 MB)\n",
      "   ---------------------------------------- 0.0/9.8 MB ? eta -:--:--\n",
      "   ---------------------------------------- 0.0/9.8 MB ? eta -:--:--\n",
      "   ---------------------------------------- 0.0/9.8 MB 435.7 kB/s eta 0:00:23\n",
      "   ---------------------------------------- 0.1/9.8 MB 653.6 kB/s eta 0:00:15\n",
      "    --------------------------------------- 0.2/9.8 MB 1.1 MB/s eta 0:00:10\n",
      "   - -------------------------------------- 0.3/9.8 MB 1.6 MB/s eta 0:00:06\n",
      "   -- ------------------------------------- 0.5/9.8 MB 2.0 MB/s eta 0:00:05\n",
      "   -- ------------------------------------- 0.6/9.8 MB 2.0 MB/s eta 0:00:05\n",
      "   --- ------------------------------------ 0.9/9.8 MB 2.5 MB/s eta 0:00:04\n",
      "   ---- ----------------------------------- 1.1/9.8 MB 2.7 MB/s eta 0:00:04\n",
      "   ----- ---------------------------------- 1.3/9.8 MB 2.9 MB/s eta 0:00:03\n",
      "   ------ --------------------------------- 1.5/9.8 MB 3.1 MB/s eta 0:00:03\n",
      "   ------- -------------------------------- 1.8/9.8 MB 3.4 MB/s eta 0:00:03\n",
      "   -------- ------------------------------- 2.1/9.8 MB 3.5 MB/s eta 0:00:03\n",
      "   --------- ------------------------------ 2.4/9.8 MB 3.7 MB/s eta 0:00:03\n",
      "   ---------- ----------------------------- 2.6/9.8 MB 3.7 MB/s eta 0:00:02\n",
      "   ----------- ---------------------------- 2.9/9.8 MB 3.9 MB/s eta 0:00:02\n",
      "   ------------ --------------------------- 3.1/9.8 MB 3.9 MB/s eta 0:00:02\n",
      "   ------------- -------------------------- 3.3/9.8 MB 4.0 MB/s eta 0:00:02\n",
      "   -------------- ------------------------- 3.5/9.8 MB 3.9 MB/s eta 0:00:02\n",
      "   --------------- ------------------------ 3.7/9.8 MB 4.0 MB/s eta 0:00:02\n",
      "   ---------------- ----------------------- 4.0/9.8 MB 4.1 MB/s eta 0:00:02\n",
      "   ----------------- ---------------------- 4.3/9.8 MB 4.2 MB/s eta 0:00:02\n",
      "   ------------------ --------------------- 4.6/9.8 MB 4.3 MB/s eta 0:00:02\n",
      "   -------------------- ------------------- 5.0/9.8 MB 4.4 MB/s eta 0:00:02\n",
      "   --------------------- ------------------ 5.2/9.8 MB 4.5 MB/s eta 0:00:02\n",
      "   ---------------------- ----------------- 5.5/9.8 MB 4.5 MB/s eta 0:00:01\n",
      "   ------------------------ --------------- 5.9/9.8 MB 4.7 MB/s eta 0:00:01\n",
      "   ------------------------- -------------- 6.2/9.8 MB 4.6 MB/s eta 0:00:01\n",
      "   -------------------------- ------------- 6.5/9.8 MB 4.8 MB/s eta 0:00:01\n",
      "   -------------------------- ------------- 6.5/9.8 MB 4.8 MB/s eta 0:00:01\n",
      "   -------------------------- ------------- 6.5/9.8 MB 4.5 MB/s eta 0:00:01\n",
      "   -------------------------- ------------- 6.5/9.8 MB 4.5 MB/s eta 0:00:01\n",
      "   -------------------------- ------------- 6.6/9.8 MB 4.3 MB/s eta 0:00:01\n",
      "   --------------------------- ------------ 6.8/9.8 MB 4.3 MB/s eta 0:00:01\n",
      "   ----------------------------- ---------- 7.3/9.8 MB 4.4 MB/s eta 0:00:01\n",
      "   ----------------------------- ---------- 7.3/9.8 MB 4.4 MB/s eta 0:00:01\n",
      "   ------------------------------ --------- 7.4/9.8 MB 4.2 MB/s eta 0:00:01\n",
      "   ------------------------------ --------- 7.6/9.8 MB 4.2 MB/s eta 0:00:01\n",
      "   ------------------------------- -------- 7.8/9.8 MB 4.2 MB/s eta 0:00:01\n",
      "   -------------------------------- ------- 7.9/9.8 MB 4.2 MB/s eta 0:00:01\n",
      "   -------------------------------- ------- 8.0/9.8 MB 4.1 MB/s eta 0:00:01\n",
      "   --------------------------------- ------ 8.1/9.8 MB 4.2 MB/s eta 0:00:01\n",
      "   --------------------------------- ------ 8.1/9.8 MB 4.2 MB/s eta 0:00:01\n",
      "   --------------------------------- ------ 8.2/9.8 MB 3.9 MB/s eta 0:00:01\n",
      "   --------------------------------- ------ 8.2/9.8 MB 3.9 MB/s eta 0:00:01\n",
      "   ---------------------------------- ----- 8.4/9.8 MB 3.9 MB/s eta 0:00:01\n",
      "   ---------------------------------- ----- 8.6/9.8 MB 3.8 MB/s eta 0:00:01\n",
      "   ----------------------------------- ---- 8.8/9.8 MB 3.9 MB/s eta 0:00:01\n",
      "   ----------------------------------- ---- 8.8/9.8 MB 3.8 MB/s eta 0:00:01\n",
      "   ------------------------------------ --- 8.9/9.8 MB 3.8 MB/s eta 0:00:01\n",
      "   ------------------------------------ --- 9.0/9.8 MB 3.7 MB/s eta 0:00:01\n",
      "   ------------------------------------- -- 9.2/9.8 MB 3.8 MB/s eta 0:00:01\n",
      "   ------------------------------------- -- 9.2/9.8 MB 3.7 MB/s eta 0:00:01\n",
      "   ------------------------------------- -- 9.2/9.8 MB 3.7 MB/s eta 0:00:01\n",
      "   ------------------------------------- -- 9.2/9.8 MB 3.7 MB/s eta 0:00:01\n",
      "   ------------------------------------- -- 9.2/9.8 MB 3.7 MB/s eta 0:00:01\n",
      "   ---------------------------------------  9.7/9.8 MB 3.7 MB/s eta 0:00:01\n",
      "   ---------------------------------------  9.8/9.8 MB 3.6 MB/s eta 0:00:01\n",
      "   ---------------------------------------  9.8/9.8 MB 3.6 MB/s eta 0:00:01\n",
      "   ---------------------------------------  9.8/9.8 MB 3.6 MB/s eta 0:00:01\n",
      "   ---------------------------------------  9.8/9.8 MB 3.6 MB/s eta 0:00:01\n",
      "   ---------------------------------------  9.8/9.8 MB 3.3 MB/s eta 0:00:01\n",
      "   ---------------------------------------  9.8/9.8 MB 3.3 MB/s eta 0:00:01\n",
      "   ---------------------------------------  9.8/9.8 MB 3.3 MB/s eta 0:00:01\n",
      "   ---------------------------------------  9.8/9.8 MB 3.3 MB/s eta 0:00:01\n",
      "   ---------------------------------------- 9.8/9.8 MB 3.2 MB/s eta 0:00:00\n",
      "Downloading patsy-0.5.6-py2.py3-none-any.whl (233 kB)\n",
      "   ---------------------------------------- 0.0/233.9 kB ? eta -:--:--\n",
      "   ---------------------------------------- 233.9/233.9 kB 4.8 MB/s eta 0:00:00\n",
      "Installing collected packages: patsy, statsmodels\n",
      "Successfully installed patsy-0.5.6 statsmodels-0.14.4\n",
      "\n"
     ]
    },
    {
     "name": "stderr",
     "output_type": "stream",
     "text": [
      "\n",
      "[notice] A new release of pip is available: 24.0 -> 24.3.1\n",
      "[notice] To update, run: python.exe -m pip install --upgrade pip\n"
     ]
    }
   ],
   "source": [
    "pip install statsmodels"
   ]
  },
  {
   "cell_type": "code",
   "execution_count": 3,
   "metadata": {},
   "outputs": [],
   "source": [
    "import pandas as pd\n",
    "import numpy as np\n",
    "import seaborn as sns\n",
    "import statsmodels.api as sm\n",
    "import scipy.stats as stats\n",
    "import matplotlib.pyplot as plt\n",
    "%matplotlib inline"
   ]
  },
  {
   "cell_type": "code",
   "execution_count": 4,
   "metadata": {},
   "outputs": [],
   "source": [
    "df = pd.read_csv(\"Fuel_Consumption_2000_2022.csv\")"
   ]
  },
  {
   "cell_type": "code",
   "execution_count": 5,
   "metadata": {},
   "outputs": [
    {
     "data": {
      "text/html": [
       "<div>\n",
       "<style scoped>\n",
       "    .dataframe tbody tr th:only-of-type {\n",
       "        vertical-align: middle;\n",
       "    }\n",
       "\n",
       "    .dataframe tbody tr th {\n",
       "        vertical-align: top;\n",
       "    }\n",
       "\n",
       "    .dataframe thead th {\n",
       "        text-align: right;\n",
       "    }\n",
       "</style>\n",
       "<table border=\"1\" class=\"dataframe\">\n",
       "  <thead>\n",
       "    <tr style=\"text-align: right;\">\n",
       "      <th></th>\n",
       "      <th>YEAR</th>\n",
       "      <th>MAKE</th>\n",
       "      <th>MODEL</th>\n",
       "      <th>VEHICLE CLASS</th>\n",
       "      <th>ENGINE SIZE</th>\n",
       "      <th>CYLINDERS</th>\n",
       "      <th>TRANSMISSION</th>\n",
       "      <th>FUEL</th>\n",
       "      <th>FUEL CONSUMPTION</th>\n",
       "      <th>HWY (L/100 km)</th>\n",
       "      <th>COMB (L/100 km)</th>\n",
       "      <th>COMB (mpg)</th>\n",
       "      <th>EMISSIONS</th>\n",
       "    </tr>\n",
       "  </thead>\n",
       "  <tbody>\n",
       "    <tr>\n",
       "      <th>0</th>\n",
       "      <td>2000</td>\n",
       "      <td>ACURA</td>\n",
       "      <td>1.6EL</td>\n",
       "      <td>COMPACT</td>\n",
       "      <td>1.6</td>\n",
       "      <td>4</td>\n",
       "      <td>A4</td>\n",
       "      <td>X</td>\n",
       "      <td>9.2</td>\n",
       "      <td>6.7</td>\n",
       "      <td>8.1</td>\n",
       "      <td>35</td>\n",
       "      <td>186</td>\n",
       "    </tr>\n",
       "    <tr>\n",
       "      <th>1</th>\n",
       "      <td>2000</td>\n",
       "      <td>ACURA</td>\n",
       "      <td>1.6EL</td>\n",
       "      <td>COMPACT</td>\n",
       "      <td>1.6</td>\n",
       "      <td>4</td>\n",
       "      <td>M5</td>\n",
       "      <td>X</td>\n",
       "      <td>8.5</td>\n",
       "      <td>6.5</td>\n",
       "      <td>7.6</td>\n",
       "      <td>37</td>\n",
       "      <td>175</td>\n",
       "    </tr>\n",
       "    <tr>\n",
       "      <th>2</th>\n",
       "      <td>2000</td>\n",
       "      <td>ACURA</td>\n",
       "      <td>3.2TL</td>\n",
       "      <td>MID-SIZE</td>\n",
       "      <td>3.2</td>\n",
       "      <td>6</td>\n",
       "      <td>AS5</td>\n",
       "      <td>Z</td>\n",
       "      <td>12.2</td>\n",
       "      <td>7.4</td>\n",
       "      <td>10.0</td>\n",
       "      <td>28</td>\n",
       "      <td>230</td>\n",
       "    </tr>\n",
       "    <tr>\n",
       "      <th>3</th>\n",
       "      <td>2000</td>\n",
       "      <td>ACURA</td>\n",
       "      <td>3.5RL</td>\n",
       "      <td>MID-SIZE</td>\n",
       "      <td>3.5</td>\n",
       "      <td>6</td>\n",
       "      <td>A4</td>\n",
       "      <td>Z</td>\n",
       "      <td>13.4</td>\n",
       "      <td>9.2</td>\n",
       "      <td>11.5</td>\n",
       "      <td>25</td>\n",
       "      <td>264</td>\n",
       "    </tr>\n",
       "    <tr>\n",
       "      <th>4</th>\n",
       "      <td>2000</td>\n",
       "      <td>ACURA</td>\n",
       "      <td>INTEGRA</td>\n",
       "      <td>SUBCOMPACT</td>\n",
       "      <td>1.8</td>\n",
       "      <td>4</td>\n",
       "      <td>A4</td>\n",
       "      <td>X</td>\n",
       "      <td>10.0</td>\n",
       "      <td>7.0</td>\n",
       "      <td>8.6</td>\n",
       "      <td>33</td>\n",
       "      <td>198</td>\n",
       "    </tr>\n",
       "  </tbody>\n",
       "</table>\n",
       "</div>"
      ],
      "text/plain": [
       "   YEAR   MAKE    MODEL VEHICLE CLASS  ENGINE SIZE  CYLINDERS TRANSMISSION  \\\n",
       "0  2000  ACURA    1.6EL       COMPACT          1.6          4           A4   \n",
       "1  2000  ACURA    1.6EL       COMPACT          1.6          4           M5   \n",
       "2  2000  ACURA    3.2TL      MID-SIZE          3.2          6          AS5   \n",
       "3  2000  ACURA    3.5RL      MID-SIZE          3.5          6           A4   \n",
       "4  2000  ACURA  INTEGRA    SUBCOMPACT          1.8          4           A4   \n",
       "\n",
       "  FUEL  FUEL CONSUMPTION  HWY (L/100 km)  COMB (L/100 km)  COMB (mpg)  \\\n",
       "0    X               9.2             6.7              8.1          35   \n",
       "1    X               8.5             6.5              7.6          37   \n",
       "2    Z              12.2             7.4             10.0          28   \n",
       "3    Z              13.4             9.2             11.5          25   \n",
       "4    X              10.0             7.0              8.6          33   \n",
       "\n",
       "   EMISSIONS  \n",
       "0        186  \n",
       "1        175  \n",
       "2        230  \n",
       "3        264  \n",
       "4        198  "
      ]
     },
     "execution_count": 5,
     "metadata": {},
     "output_type": "execute_result"
    }
   ],
   "source": [
    "df.head()"
   ]
  },
  {
   "cell_type": "code",
   "execution_count": 6,
   "metadata": {},
   "outputs": [
    {
     "data": {
      "text/plain": [
       "Index(['YEAR', 'MAKE', 'MODEL', 'VEHICLE CLASS', 'ENGINE SIZE', 'CYLINDERS',\n",
       "       'TRANSMISSION', 'FUEL', 'FUEL CONSUMPTION', 'HWY (L/100 km)',\n",
       "       'COMB (L/100 km)', 'COMB (mpg)', 'EMISSIONS'],\n",
       "      dtype='object')"
      ]
     },
     "execution_count": 6,
     "metadata": {},
     "output_type": "execute_result"
    }
   ],
   "source": [
    "df.columns"
   ]
  },
  {
   "cell_type": "code",
   "execution_count": 8,
   "metadata": {},
   "outputs": [
    {
     "data": {
      "text/plain": [
       "(22556, 13)"
      ]
     },
     "execution_count": 8,
     "metadata": {},
     "output_type": "execute_result"
    }
   ],
   "source": [
    "df.shape"
   ]
  },
  {
   "cell_type": "code",
   "execution_count": 9,
   "metadata": {},
   "outputs": [
    {
     "name": "stdout",
     "output_type": "stream",
     "text": [
      "<class 'pandas.core.frame.DataFrame'>\n",
      "RangeIndex: 22556 entries, 0 to 22555\n",
      "Data columns (total 13 columns):\n",
      " #   Column            Non-Null Count  Dtype  \n",
      "---  ------            --------------  -----  \n",
      " 0   YEAR              22556 non-null  int64  \n",
      " 1   MAKE              22556 non-null  object \n",
      " 2   MODEL             22556 non-null  object \n",
      " 3   VEHICLE CLASS     22556 non-null  object \n",
      " 4   ENGINE SIZE       22556 non-null  float64\n",
      " 5   CYLINDERS         22556 non-null  int64  \n",
      " 6   TRANSMISSION      22556 non-null  object \n",
      " 7   FUEL              22556 non-null  object \n",
      " 8   FUEL CONSUMPTION  22556 non-null  float64\n",
      " 9   HWY (L/100 km)    22556 non-null  float64\n",
      " 10  COMB (L/100 km)   22556 non-null  float64\n",
      " 11  COMB (mpg)        22556 non-null  int64  \n",
      " 12  EMISSIONS         22556 non-null  int64  \n",
      "dtypes: float64(4), int64(4), object(5)\n",
      "memory usage: 2.2+ MB\n"
     ]
    }
   ],
   "source": [
    "df.info()"
   ]
  },
  {
   "cell_type": "markdown",
   "metadata": {},
   "source": [
    "##  EXPLORATORY DATA ANALYSIS"
   ]
  },
  {
   "cell_type": "markdown",
   "metadata": {},
   "source": [
    "#  Data Cleaning"
   ]
  },
  {
   "cell_type": "code",
   "execution_count": 10,
   "metadata": {},
   "outputs": [
    {
     "data": {
      "text/plain": [
       "YEAR                0\n",
       "MAKE                0\n",
       "MODEL               0\n",
       "VEHICLE CLASS       0\n",
       "ENGINE SIZE         0\n",
       "CYLINDERS           0\n",
       "TRANSMISSION        0\n",
       "FUEL                0\n",
       "FUEL CONSUMPTION    0\n",
       "HWY (L/100 km)      0\n",
       "COMB (L/100 km)     0\n",
       "COMB (mpg)          0\n",
       "EMISSIONS           0\n",
       "dtype: int64"
      ]
     },
     "execution_count": 10,
     "metadata": {},
     "output_type": "execute_result"
    }
   ],
   "source": [
    "df.isnull().sum()"
   ]
  },
  {
   "cell_type": "code",
   "execution_count": 11,
   "metadata": {},
   "outputs": [
    {
     "data": {
      "text/plain": [
       "np.int64(1)"
      ]
     },
     "execution_count": 11,
     "metadata": {},
     "output_type": "execute_result"
    }
   ],
   "source": [
    "df.duplicated().sum()"
   ]
  },
  {
   "cell_type": "code",
   "execution_count": 13,
   "metadata": {},
   "outputs": [],
   "source": [
    "df.drop_duplicates(inplace=True)"
   ]
  },
  {
   "cell_type": "code",
   "execution_count": 14,
   "metadata": {},
   "outputs": [
    {
     "data": {
      "text/html": [
       "<div>\n",
       "<style scoped>\n",
       "    .dataframe tbody tr th:only-of-type {\n",
       "        vertical-align: middle;\n",
       "    }\n",
       "\n",
       "    .dataframe tbody tr th {\n",
       "        vertical-align: top;\n",
       "    }\n",
       "\n",
       "    .dataframe thead th {\n",
       "        text-align: right;\n",
       "    }\n",
       "</style>\n",
       "<table border=\"1\" class=\"dataframe\">\n",
       "  <thead>\n",
       "    <tr style=\"text-align: right;\">\n",
       "      <th></th>\n",
       "      <th>YEAR</th>\n",
       "      <th>ENGINE SIZE</th>\n",
       "      <th>CYLINDERS</th>\n",
       "      <th>FUEL CONSUMPTION</th>\n",
       "      <th>HWY (L/100 km)</th>\n",
       "      <th>COMB (L/100 km)</th>\n",
       "      <th>COMB (mpg)</th>\n",
       "      <th>EMISSIONS</th>\n",
       "    </tr>\n",
       "  </thead>\n",
       "  <tbody>\n",
       "    <tr>\n",
       "      <th>count</th>\n",
       "      <td>22555.000000</td>\n",
       "      <td>22555.000000</td>\n",
       "      <td>22555.000000</td>\n",
       "      <td>22555.000000</td>\n",
       "      <td>22555.000000</td>\n",
       "      <td>22555.000000</td>\n",
       "      <td>22555.000000</td>\n",
       "      <td>22555.000000</td>\n",
       "    </tr>\n",
       "    <tr>\n",
       "      <th>mean</th>\n",
       "      <td>2011.554955</td>\n",
       "      <td>3.356617</td>\n",
       "      <td>5.854046</td>\n",
       "      <td>12.763294</td>\n",
       "      <td>8.918958</td>\n",
       "      <td>11.034148</td>\n",
       "      <td>27.374950</td>\n",
       "      <td>250.063844</td>\n",
       "    </tr>\n",
       "    <tr>\n",
       "      <th>std</th>\n",
       "      <td>6.297939</td>\n",
       "      <td>1.335448</td>\n",
       "      <td>1.819582</td>\n",
       "      <td>3.500922</td>\n",
       "      <td>2.274675</td>\n",
       "      <td>2.910839</td>\n",
       "      <td>7.376881</td>\n",
       "      <td>59.352558</td>\n",
       "    </tr>\n",
       "    <tr>\n",
       "      <th>min</th>\n",
       "      <td>2000.000000</td>\n",
       "      <td>0.800000</td>\n",
       "      <td>2.000000</td>\n",
       "      <td>3.500000</td>\n",
       "      <td>3.200000</td>\n",
       "      <td>3.600000</td>\n",
       "      <td>11.000000</td>\n",
       "      <td>83.000000</td>\n",
       "    </tr>\n",
       "    <tr>\n",
       "      <th>25%</th>\n",
       "      <td>2006.000000</td>\n",
       "      <td>2.300000</td>\n",
       "      <td>4.000000</td>\n",
       "      <td>10.400000</td>\n",
       "      <td>7.300000</td>\n",
       "      <td>9.100000</td>\n",
       "      <td>22.000000</td>\n",
       "      <td>209.000000</td>\n",
       "    </tr>\n",
       "    <tr>\n",
       "      <th>50%</th>\n",
       "      <td>2012.000000</td>\n",
       "      <td>3.000000</td>\n",
       "      <td>6.000000</td>\n",
       "      <td>12.300000</td>\n",
       "      <td>8.400000</td>\n",
       "      <td>10.600000</td>\n",
       "      <td>27.000000</td>\n",
       "      <td>243.000000</td>\n",
       "    </tr>\n",
       "    <tr>\n",
       "      <th>75%</th>\n",
       "      <td>2017.000000</td>\n",
       "      <td>4.200000</td>\n",
       "      <td>8.000000</td>\n",
       "      <td>14.700000</td>\n",
       "      <td>10.200000</td>\n",
       "      <td>12.700000</td>\n",
       "      <td>31.000000</td>\n",
       "      <td>288.000000</td>\n",
       "    </tr>\n",
       "    <tr>\n",
       "      <th>max</th>\n",
       "      <td>2022.000000</td>\n",
       "      <td>8.400000</td>\n",
       "      <td>16.000000</td>\n",
       "      <td>30.600000</td>\n",
       "      <td>20.900000</td>\n",
       "      <td>26.100000</td>\n",
       "      <td>78.000000</td>\n",
       "      <td>608.000000</td>\n",
       "    </tr>\n",
       "  </tbody>\n",
       "</table>\n",
       "</div>"
      ],
      "text/plain": [
       "               YEAR   ENGINE SIZE     CYLINDERS  FUEL CONSUMPTION  \\\n",
       "count  22555.000000  22555.000000  22555.000000      22555.000000   \n",
       "mean    2011.554955      3.356617      5.854046         12.763294   \n",
       "std        6.297939      1.335448      1.819582          3.500922   \n",
       "min     2000.000000      0.800000      2.000000          3.500000   \n",
       "25%     2006.000000      2.300000      4.000000         10.400000   \n",
       "50%     2012.000000      3.000000      6.000000         12.300000   \n",
       "75%     2017.000000      4.200000      8.000000         14.700000   \n",
       "max     2022.000000      8.400000     16.000000         30.600000   \n",
       "\n",
       "       HWY (L/100 km)  COMB (L/100 km)    COMB (mpg)     EMISSIONS  \n",
       "count    22555.000000     22555.000000  22555.000000  22555.000000  \n",
       "mean         8.918958        11.034148     27.374950    250.063844  \n",
       "std          2.274675         2.910839      7.376881     59.352558  \n",
       "min          3.200000         3.600000     11.000000     83.000000  \n",
       "25%          7.300000         9.100000     22.000000    209.000000  \n",
       "50%          8.400000        10.600000     27.000000    243.000000  \n",
       "75%         10.200000        12.700000     31.000000    288.000000  \n",
       "max         20.900000        26.100000     78.000000    608.000000  "
      ]
     },
     "execution_count": 14,
     "metadata": {},
     "output_type": "execute_result"
    }
   ],
   "source": [
    "df.describe()"
   ]
  },
  {
   "cell_type": "code",
   "execution_count": 18,
   "metadata": {},
   "outputs": [
    {
     "data": {
      "text/plain": [
       "array(['ACURA', 'AUDI', 'BMW', 'BUICK', 'CADILLAC', 'CHEVROLET',\n",
       "       'CHRYSLER', 'DAEWOO', 'DODGE', 'FERRARI', 'FORD', 'GMC', 'HONDA',\n",
       "       'HYUNDAI', 'INFINITI', 'ISUZU', 'JAGUAR', 'JEEP', 'KIA',\n",
       "       'LAND ROVER', 'LEXUS', 'LINCOLN', 'MAZDA', 'MERCEDES-BENZ',\n",
       "       'NISSAN', 'OLDSMOBILE', 'PLYMOUTH', 'PONTIAC', 'PORSCHE', 'SAAB',\n",
       "       'SATURN', 'SUBARU', 'SUZUKI', 'TOYOTA', 'VOLKSWAGEN', 'VOLVO',\n",
       "       'BENTLEY', 'ROLLS-ROYCE', 'MASERATI', 'MINI', 'MITSUBISHI',\n",
       "       'SMART', 'HUMMER', 'ASTON MARTIN', 'LAMBORGHINI', 'BUGATTI',\n",
       "       'SCION', 'FIAT', 'RAM', 'SRT', 'ALFA ROMEO', 'GENESIS', 'Acura',\n",
       "       'Alfa Romeo', 'Aston Martin', 'Audi', 'Bentley', 'Bugatti',\n",
       "       'Buick', 'Cadillac', 'Chevrolet', 'Chrysler', 'Dodge', 'Ford',\n",
       "       'Genesis', 'Honda', 'Hyundai', 'Infiniti', 'Jaguar', 'Jeep', 'Kia',\n",
       "       'Lamborghini', 'Land Rover', 'Lexus', 'Lincoln', 'Maserati',\n",
       "       'Mazda', 'Mercedes-Benz', 'Mitsubishi', 'Nissan', 'Porsche', 'Ram',\n",
       "       'Rolls-Royce', 'Subaru', 'Toyota', 'Volkswagen', 'Volvo'],\n",
       "      dtype=object)"
      ]
     },
     "execution_count": 18,
     "metadata": {},
     "output_type": "execute_result"
    }
   ],
   "source": [
    "df['MAKE'].unique()"
   ]
  },
  {
   "cell_type": "code",
   "execution_count": 28,
   "metadata": {},
   "outputs": [],
   "source": [
    "df['MAKE'] = df['MAKE'].str.upper()"
   ]
  },
  {
   "cell_type": "code",
   "execution_count": 29,
   "metadata": {},
   "outputs": [
    {
     "data": {
      "text/plain": [
       "array(['ACURA', 'AUDI', 'BMW', 'BUICK', 'CADILLAC', 'CHEVROLET',\n",
       "       'CHRYSLER', 'DAEWOO', 'DODGE', 'FERRARI', 'FORD', 'GMC', 'HONDA',\n",
       "       'HYUNDAI', 'INFINITI', 'ISUZU', 'JAGUAR', 'JEEP', 'KIA',\n",
       "       'LAND ROVER', 'LEXUS', 'LINCOLN', 'MAZDA', 'MERCEDES-BENZ',\n",
       "       'NISSAN', 'OLDSMOBILE', 'PLYMOUTH', 'PONTIAC', 'PORSCHE', 'SAAB',\n",
       "       'SATURN', 'SUBARU', 'SUZUKI', 'TOYOTA', 'VOLKSWAGEN', 'VOLVO',\n",
       "       'BENTLEY', 'ROLLS-ROYCE', 'MASERATI', 'MINI', 'MITSUBISHI',\n",
       "       'SMART', 'HUMMER', 'ASTON MARTIN', 'LAMBORGHINI', 'BUGATTI',\n",
       "       'SCION', 'FIAT', 'RAM', 'SRT', 'ALFA ROMEO', 'GENESIS'],\n",
       "      dtype=object)"
      ]
     },
     "execution_count": 29,
     "metadata": {},
     "output_type": "execute_result"
    }
   ],
   "source": [
    "df['MAKE'].unique()"
   ]
  },
  {
   "cell_type": "code",
   "execution_count": 20,
   "metadata": {},
   "outputs": [
    {
     "data": {
      "text/plain": [
       "array(['COMPACT', 'MID-SIZE', 'SUBCOMPACT', 'STATION WAGON - MID-SIZE',\n",
       "       'MINICOMPACT', 'TWO-SEATER', 'STATION WAGON - SMALL', 'FULL-SIZE',\n",
       "       'SUV', 'VAN - CARGO', 'VAN - PASSENGER', 'PICKUP TRUCK - STANDARD',\n",
       "       'PICKUP TRUCK - SMALL', 'MINIVAN', 'SUV - STANDARD',\n",
       "       'SPECIAL PURPOSE VEHICLE', 'SUV - SMALL', 'Compact', 'SUV: Small',\n",
       "       'Two-seater', 'Mid-size', 'Minicompact', 'Subcompact',\n",
       "       'Station wagon: Small', 'Full-size', 'SUV: Standard',\n",
       "       'Special purpose vehicle', 'Pickup truck: Small',\n",
       "       'Pickup truck: Standard', 'Minivan', 'Van: Passenger',\n",
       "       'Station wagon: Mid-size'], dtype=object)"
      ]
     },
     "execution_count": 20,
     "metadata": {},
     "output_type": "execute_result"
    }
   ],
   "source": [
    "df['VEHICLE CLASS'].unique()"
   ]
  },
  {
   "cell_type": "code",
   "execution_count": 37,
   "metadata": {},
   "outputs": [],
   "source": [
    "df['VEHICLE CLASS'] = df['VEHICLE CLASS'].str.upper()"
   ]
  },
  {
   "cell_type": "code",
   "execution_count": 38,
   "metadata": {},
   "outputs": [
    {
     "data": {
      "text/plain": [
       "array(['COMPACT', 'MID-SIZE', 'SUBCOMPACT', 'STATION WAGON - MID-SIZE',\n",
       "       'MINICOMPACT', 'TWO-SEATER', 'STATION WAGON - SMALL', 'FULL-SIZE',\n",
       "       'SUV', 'VAN - CARGO', 'VAN - PASSENGER', 'PICKUP TRUCK - STANDARD',\n",
       "       'PICKUP TRUCK - SMALL', 'MINIVAN', 'SUV - STANDARD',\n",
       "       'SPECIAL PURPOSE VEHICLE', 'SUV - SMALL', 'SUV: SMALL',\n",
       "       'STATION WAGON: SMALL', 'SUV: STANDARD', 'PICKUP TRUCK: SMALL',\n",
       "       'PICKUP TRUCK: STANDARD', 'VAN: PASSENGER',\n",
       "       'STATION WAGON: MID-SIZE'], dtype=object)"
      ]
     },
     "execution_count": 38,
     "metadata": {},
     "output_type": "execute_result"
    }
   ],
   "source": [
    "df['VEHICLE CLASS'].unique()"
   ]
  },
  {
   "cell_type": "markdown",
   "metadata": {},
   "source": [
    "##  UNIVARIATE DATA ANALYSIS"
   ]
  },
  {
   "cell_type": "code",
   "execution_count": 33,
   "metadata": {},
   "outputs": [
    {
     "data": {
      "image/png": "[encoded data removed]",
      "text/plain": [
       "<Figure size 640x480 with 1 Axes>"
      ]
     },
     "metadata": {},
     "output_type": "display_data"
    }
   ],
   "source": [
    "plt.bar(df['MAKE'], df['FUEL CONSUMPTION'])\n",
    "plt.xlabel('MAKE', rotation = 0)\n",
    "plt.ylabel('FUEL CONSUMPTION')\n",
    "plt.title('MAKE VS FUEL CONSUMPTION')\n",
    "plt.xticks(rotation=90)\n",
    "plt.show()"
   ]
  },
  {
   "cell_type": "code",
   "execution_count": 34,
   "metadata": {},
   "outputs": [
    {
     "data": {
      "text/plain": [
       "<Axes: >"
      ]
     },
     "execution_count": 34,
     "metadata": {},
     "output_type": "execute_result"
    },
    {
     "data": {
      "image/png": "[encoded data removed]",
      "text/plain": [
       "<Figure size 640x480 with 1 Axes>"
      ]
     },
     "metadata": {},
     "output_type": "display_data"
    }
   ],
   "source": [
    "#Visualize the spread of the data and detect outliers for numerical features.\n",
    "df.boxplot(column='EMISSIONS')"
   ]
  },
  {
   "cell_type": "code",
   "execution_count": 35,
   "metadata": {},
   "outputs": [
    {
     "data": {
      "text/plain": [
       "<Axes: >"
      ]
     },
     "execution_count": 35,
     "metadata": {},
     "output_type": "execute_result"
    },
    {
     "data": {
      "image/png": "[encoded data removed]",
      "text/plain": [
       "<Figure size 640x480 with 1 Axes>"
      ]
     },
     "metadata": {},
     "output_type": "display_data"
    }
   ],
   "source": [
    "#Plot histograms for numerical features to visualize the distribution of the data and check for skewness or normality.\n",
    "df['ENGINE SIZE'].hist(bins=30)"
   ]
  },
  {
   "cell_type": "code",
   "execution_count": 39,
   "metadata": {},
   "outputs": [],
   "source": [
    "# dropping vehicles whose years are less than 2011\n",
    "#  since they have a high maintenance and not suitable for this business\n",
    "df.drop(df[df['YEAR'] < 2011].index, inplace=True)"
   ]
  },
  {
   "cell_type": "code",
   "execution_count": 40,
   "metadata": {},
   "outputs": [
    {
     "data": {
      "text/html": [
       "<div>\n",
       "<style scoped>\n",
       "    .dataframe tbody tr th:only-of-type {\n",
       "        vertical-align: middle;\n",
       "    }\n",
       "\n",
       "    .dataframe tbody tr th {\n",
       "        vertical-align: top;\n",
       "    }\n",
       "\n",
       "    .dataframe thead th {\n",
       "        text-align: right;\n",
       "    }\n",
       "</style>\n",
       "<table border=\"1\" class=\"dataframe\">\n",
       "  <thead>\n",
       "    <tr style=\"text-align: right;\">\n",
       "      <th></th>\n",
       "      <th>YEAR</th>\n",
       "      <th>MAKE</th>\n",
       "      <th>MODEL</th>\n",
       "      <th>VEHICLE CLASS</th>\n",
       "      <th>ENGINE SIZE</th>\n",
       "      <th>CYLINDERS</th>\n",
       "      <th>TRANSMISSION</th>\n",
       "      <th>FUEL</th>\n",
       "      <th>FUEL CONSUMPTION</th>\n",
       "      <th>HWY (L/100 km)</th>\n",
       "      <th>COMB (L/100 km)</th>\n",
       "      <th>COMB (mpg)</th>\n",
       "      <th>EMISSIONS</th>\n",
       "    </tr>\n",
       "  </thead>\n",
       "  <tbody>\n",
       "    <tr>\n",
       "      <th>9998</th>\n",
       "      <td>2011</td>\n",
       "      <td>ACURA</td>\n",
       "      <td>CSX</td>\n",
       "      <td>COMPACT</td>\n",
       "      <td>2.0</td>\n",
       "      <td>4</td>\n",
       "      <td>AS5</td>\n",
       "      <td>X</td>\n",
       "      <td>9.5</td>\n",
       "      <td>6.5</td>\n",
       "      <td>8.1</td>\n",
       "      <td>35</td>\n",
       "      <td>186</td>\n",
       "    </tr>\n",
       "    <tr>\n",
       "      <th>9999</th>\n",
       "      <td>2011</td>\n",
       "      <td>ACURA</td>\n",
       "      <td>CSX</td>\n",
       "      <td>COMPACT</td>\n",
       "      <td>2.0</td>\n",
       "      <td>4</td>\n",
       "      <td>M5</td>\n",
       "      <td>X</td>\n",
       "      <td>8.7</td>\n",
       "      <td>6.4</td>\n",
       "      <td>7.7</td>\n",
       "      <td>37</td>\n",
       "      <td>177</td>\n",
       "    </tr>\n",
       "    <tr>\n",
       "      <th>10000</th>\n",
       "      <td>2011</td>\n",
       "      <td>ACURA</td>\n",
       "      <td>CSX</td>\n",
       "      <td>COMPACT</td>\n",
       "      <td>2.0</td>\n",
       "      <td>4</td>\n",
       "      <td>M6</td>\n",
       "      <td>Z</td>\n",
       "      <td>10.2</td>\n",
       "      <td>6.8</td>\n",
       "      <td>8.7</td>\n",
       "      <td>32</td>\n",
       "      <td>200</td>\n",
       "    </tr>\n",
       "    <tr>\n",
       "      <th>10001</th>\n",
       "      <td>2011</td>\n",
       "      <td>ACURA</td>\n",
       "      <td>MDX AWD</td>\n",
       "      <td>SUV</td>\n",
       "      <td>3.7</td>\n",
       "      <td>6</td>\n",
       "      <td>AS6</td>\n",
       "      <td>Z</td>\n",
       "      <td>13.2</td>\n",
       "      <td>9.6</td>\n",
       "      <td>11.6</td>\n",
       "      <td>24</td>\n",
       "      <td>267</td>\n",
       "    </tr>\n",
       "    <tr>\n",
       "      <th>10002</th>\n",
       "      <td>2011</td>\n",
       "      <td>ACURA</td>\n",
       "      <td>RDX AWD TURBO</td>\n",
       "      <td>SUV</td>\n",
       "      <td>2.3</td>\n",
       "      <td>4</td>\n",
       "      <td>AS5</td>\n",
       "      <td>Z</td>\n",
       "      <td>11.7</td>\n",
       "      <td>8.7</td>\n",
       "      <td>10.3</td>\n",
       "      <td>27</td>\n",
       "      <td>237</td>\n",
       "    </tr>\n",
       "    <tr>\n",
       "      <th>...</th>\n",
       "      <td>...</td>\n",
       "      <td>...</td>\n",
       "      <td>...</td>\n",
       "      <td>...</td>\n",
       "      <td>...</td>\n",
       "      <td>...</td>\n",
       "      <td>...</td>\n",
       "      <td>...</td>\n",
       "      <td>...</td>\n",
       "      <td>...</td>\n",
       "      <td>...</td>\n",
       "      <td>...</td>\n",
       "      <td>...</td>\n",
       "    </tr>\n",
       "    <tr>\n",
       "      <th>22551</th>\n",
       "      <td>2022</td>\n",
       "      <td>VOLVO</td>\n",
       "      <td>XC40 T5 AWD</td>\n",
       "      <td>SUV: SMALL</td>\n",
       "      <td>2.0</td>\n",
       "      <td>4</td>\n",
       "      <td>AS8</td>\n",
       "      <td>Z</td>\n",
       "      <td>10.7</td>\n",
       "      <td>7.7</td>\n",
       "      <td>9.4</td>\n",
       "      <td>30</td>\n",
       "      <td>219</td>\n",
       "    </tr>\n",
       "    <tr>\n",
       "      <th>22552</th>\n",
       "      <td>2022</td>\n",
       "      <td>VOLVO</td>\n",
       "      <td>XC60 B5 AWD</td>\n",
       "      <td>SUV: SMALL</td>\n",
       "      <td>2.0</td>\n",
       "      <td>4</td>\n",
       "      <td>AS8</td>\n",
       "      <td>Z</td>\n",
       "      <td>10.5</td>\n",
       "      <td>8.1</td>\n",
       "      <td>9.4</td>\n",
       "      <td>30</td>\n",
       "      <td>219</td>\n",
       "    </tr>\n",
       "    <tr>\n",
       "      <th>22553</th>\n",
       "      <td>2022</td>\n",
       "      <td>VOLVO</td>\n",
       "      <td>XC60 B6 AWD</td>\n",
       "      <td>SUV: SMALL</td>\n",
       "      <td>2.0</td>\n",
       "      <td>4</td>\n",
       "      <td>AS8</td>\n",
       "      <td>Z</td>\n",
       "      <td>11.0</td>\n",
       "      <td>8.7</td>\n",
       "      <td>9.9</td>\n",
       "      <td>29</td>\n",
       "      <td>232</td>\n",
       "    </tr>\n",
       "    <tr>\n",
       "      <th>22554</th>\n",
       "      <td>2022</td>\n",
       "      <td>VOLVO</td>\n",
       "      <td>XC90 T5 AWD</td>\n",
       "      <td>SUV: STANDARD</td>\n",
       "      <td>2.0</td>\n",
       "      <td>4</td>\n",
       "      <td>AS8</td>\n",
       "      <td>Z</td>\n",
       "      <td>11.5</td>\n",
       "      <td>8.4</td>\n",
       "      <td>10.1</td>\n",
       "      <td>28</td>\n",
       "      <td>236</td>\n",
       "    </tr>\n",
       "    <tr>\n",
       "      <th>22555</th>\n",
       "      <td>2022</td>\n",
       "      <td>VOLVO</td>\n",
       "      <td>XC90 T6 AWD</td>\n",
       "      <td>SUV: STANDARD</td>\n",
       "      <td>2.0</td>\n",
       "      <td>4</td>\n",
       "      <td>AS8</td>\n",
       "      <td>Z</td>\n",
       "      <td>12.4</td>\n",
       "      <td>8.9</td>\n",
       "      <td>10.8</td>\n",
       "      <td>26</td>\n",
       "      <td>252</td>\n",
       "    </tr>\n",
       "  </tbody>\n",
       "</table>\n",
       "<p>12558 rows × 13 columns</p>\n",
       "</div>"
      ],
      "text/plain": [
       "       YEAR   MAKE          MODEL  VEHICLE CLASS  ENGINE SIZE  CYLINDERS  \\\n",
       "9998   2011  ACURA            CSX        COMPACT          2.0          4   \n",
       "9999   2011  ACURA            CSX        COMPACT          2.0          4   \n",
       "10000  2011  ACURA            CSX        COMPACT          2.0          4   \n",
       "10001  2011  ACURA        MDX AWD            SUV          3.7          6   \n",
       "10002  2011  ACURA  RDX AWD TURBO            SUV          2.3          4   \n",
       "...     ...    ...            ...            ...          ...        ...   \n",
       "22551  2022  VOLVO    XC40 T5 AWD     SUV: SMALL          2.0          4   \n",
       "22552  2022  VOLVO    XC60 B5 AWD     SUV: SMALL          2.0          4   \n",
       "22553  2022  VOLVO    XC60 B6 AWD     SUV: SMALL          2.0          4   \n",
       "22554  2022  VOLVO    XC90 T5 AWD  SUV: STANDARD          2.0          4   \n",
       "22555  2022  VOLVO    XC90 T6 AWD  SUV: STANDARD          2.0          4   \n",
       "\n",
       "      TRANSMISSION FUEL  FUEL CONSUMPTION  HWY (L/100 km)  COMB (L/100 km)  \\\n",
       "9998           AS5    X               9.5             6.5              8.1   \n",
       "9999            M5    X               8.7             6.4              7.7   \n",
       "10000           M6    Z              10.2             6.8              8.7   \n",
       "10001          AS6    Z              13.2             9.6             11.6   \n",
       "10002          AS5    Z              11.7             8.7             10.3   \n",
       "...            ...  ...               ...             ...              ...   \n",
       "22551          AS8    Z              10.7             7.7              9.4   \n",
       "22552          AS8    Z              10.5             8.1              9.4   \n",
       "22553          AS8    Z              11.0             8.7              9.9   \n",
       "22554          AS8    Z              11.5             8.4             10.1   \n",
       "22555          AS8    Z              12.4             8.9             10.8   \n",
       "\n",
       "       COMB (mpg)  EMISSIONS  \n",
       "9998           35        186  \n",
       "9999           37        177  \n",
       "10000          32        200  \n",
       "10001          24        267  \n",
       "10002          27        237  \n",
       "...           ...        ...  \n",
       "22551          30        219  \n",
       "22552          30        219  \n",
       "22553          29        232  \n",
       "22554          28        236  \n",
       "22555          26        252  \n",
       "\n",
       "[12558 rows x 13 columns]"
      ]
     },
     "execution_count": 40,
     "metadata": {},
     "output_type": "execute_result"
    }
   ],
   "source": [
    "df"
   ]
  },
  {
   "cell_type": "code",
   "execution_count": 41,
   "metadata": {},
   "outputs": [
    {
     "data": {
      "text/plain": [
       "(12558, 13)"
      ]
     },
     "execution_count": 41,
     "metadata": {},
     "output_type": "execute_result"
    }
   ],
   "source": [
    "df.shape"
   ]
  },
  {
   "cell_type": "code",
   "execution_count": 42,
   "metadata": {},
   "outputs": [
    {
     "data": {
      "image/png": "[encoded data removed]",
      "text/plain": [
       "<Figure size 640x480 with 1 Axes>"
      ]
     },
     "metadata": {},
     "output_type": "display_data"
    }
   ],
   "source": [
    "plt.bar(df['MAKE'], df['FUEL CONSUMPTION'])\n",
    "plt.xlabel('MAKE', rotation = 0)\n",
    "plt.ylabel('FUEL CONSUMPTION')\n",
    "plt.title('MAKE VS FUEL CONSUMPTION')\n",
    "plt.xticks(rotation=90)\n",
    "plt.show()"
   ]
  },
  {
   "cell_type": "markdown",
   "metadata": {},
   "source": [
    "using interquartile range to calculate outliers"
   ]
  },
  {
   "cell_type": "code",
   "execution_count": 44,
   "metadata": {},
   "outputs": [],
   "source": [
    "## Assume 'df' is your DataFrame and 'column' is the column you want to check\n",
    "Q1 = df['FUEL CONSUMPTION'].quantile(0.25)\n",
    "Q3 = df['FUEL CONSUMPTION'].quantile(0.75)\n",
    "IQR = Q3 - Q1"
   ]
  },
  {
   "cell_type": "code",
   "execution_count": 46,
   "metadata": {},
   "outputs": [],
   "source": [
    "#Detect outliers\n",
    "outliers = df[(df['FUEL CONSUMPTION'] < (Q1 - 1.5 * IQR)) | (df['FUEL CONSUMPTION'] > (Q3 + 1.5 * IQR))]"
   ]
  },
  {
   "cell_type": "code",
   "execution_count": 47,
   "metadata": {},
   "outputs": [
    {
     "data": {
      "text/html": [
       "<div>\n",
       "<style scoped>\n",
       "    .dataframe tbody tr th:only-of-type {\n",
       "        vertical-align: middle;\n",
       "    }\n",
       "\n",
       "    .dataframe tbody tr th {\n",
       "        vertical-align: top;\n",
       "    }\n",
       "\n",
       "    .dataframe thead th {\n",
       "        text-align: right;\n",
       "    }\n",
       "</style>\n",
       "<table border=\"1\" class=\"dataframe\">\n",
       "  <thead>\n",
       "    <tr style=\"text-align: right;\">\n",
       "      <th></th>\n",
       "      <th>YEAR</th>\n",
       "      <th>MAKE</th>\n",
       "      <th>MODEL</th>\n",
       "      <th>VEHICLE CLASS</th>\n",
       "      <th>ENGINE SIZE</th>\n",
       "      <th>CYLINDERS</th>\n",
       "      <th>TRANSMISSION</th>\n",
       "      <th>FUEL</th>\n",
       "      <th>FUEL CONSUMPTION</th>\n",
       "      <th>HWY (L/100 km)</th>\n",
       "      <th>COMB (L/100 km)</th>\n",
       "      <th>COMB (mpg)</th>\n",
       "      <th>EMISSIONS</th>\n",
       "    </tr>\n",
       "  </thead>\n",
       "  <tbody>\n",
       "    <tr>\n",
       "      <th>10134</th>\n",
       "      <td>2011</td>\n",
       "      <td>BUGATTI</td>\n",
       "      <td>VEYRON</td>\n",
       "      <td>TWO-SEATER</td>\n",
       "      <td>8.0</td>\n",
       "      <td>16</td>\n",
       "      <td>AS7</td>\n",
       "      <td>Z</td>\n",
       "      <td>26.1</td>\n",
       "      <td>15.5</td>\n",
       "      <td>21.3</td>\n",
       "      <td>13</td>\n",
       "      <td>490</td>\n",
       "    </tr>\n",
       "    <tr>\n",
       "      <th>10164</th>\n",
       "      <td>2011</td>\n",
       "      <td>CADILLAC</td>\n",
       "      <td>ESCALADE AWD</td>\n",
       "      <td>SUV</td>\n",
       "      <td>6.2</td>\n",
       "      <td>8</td>\n",
       "      <td>A6</td>\n",
       "      <td>E</td>\n",
       "      <td>21.2</td>\n",
       "      <td>13.8</td>\n",
       "      <td>17.9</td>\n",
       "      <td>16</td>\n",
       "      <td>286</td>\n",
       "    </tr>\n",
       "    <tr>\n",
       "      <th>10166</th>\n",
       "      <td>2011</td>\n",
       "      <td>CADILLAC</td>\n",
       "      <td>ESCALADE ESV AWD</td>\n",
       "      <td>SUV</td>\n",
       "      <td>6.2</td>\n",
       "      <td>8</td>\n",
       "      <td>A6</td>\n",
       "      <td>E</td>\n",
       "      <td>23.5</td>\n",
       "      <td>15.3</td>\n",
       "      <td>19.8</td>\n",
       "      <td>14</td>\n",
       "      <td>317</td>\n",
       "    </tr>\n",
       "    <tr>\n",
       "      <th>10218</th>\n",
       "      <td>2011</td>\n",
       "      <td>CHEVROLET</td>\n",
       "      <td>EXPRESS 2500 PASSENGER</td>\n",
       "      <td>VAN - PASSENGER</td>\n",
       "      <td>4.8</td>\n",
       "      <td>8</td>\n",
       "      <td>A6</td>\n",
       "      <td>E</td>\n",
       "      <td>25.9</td>\n",
       "      <td>16.7</td>\n",
       "      <td>21.7</td>\n",
       "      <td>13</td>\n",
       "      <td>347</td>\n",
       "    </tr>\n",
       "    <tr>\n",
       "      <th>10220</th>\n",
       "      <td>2011</td>\n",
       "      <td>CHEVROLET</td>\n",
       "      <td>EXPRESS 2500 PASSENGER</td>\n",
       "      <td>VAN - PASSENGER</td>\n",
       "      <td>6.0</td>\n",
       "      <td>8</td>\n",
       "      <td>A6</td>\n",
       "      <td>E</td>\n",
       "      <td>27.5</td>\n",
       "      <td>17.4</td>\n",
       "      <td>23.0</td>\n",
       "      <td>12</td>\n",
       "      <td>368</td>\n",
       "    </tr>\n",
       "    <tr>\n",
       "      <th>...</th>\n",
       "      <td>...</td>\n",
       "      <td>...</td>\n",
       "      <td>...</td>\n",
       "      <td>...</td>\n",
       "      <td>...</td>\n",
       "      <td>...</td>\n",
       "      <td>...</td>\n",
       "      <td>...</td>\n",
       "      <td>...</td>\n",
       "      <td>...</td>\n",
       "      <td>...</td>\n",
       "      <td>...</td>\n",
       "      <td>...</td>\n",
       "    </tr>\n",
       "    <tr>\n",
       "      <th>22000</th>\n",
       "      <td>2022</td>\n",
       "      <td>GMC</td>\n",
       "      <td>Sierra 4WD Mud Terrain Tire FFV</td>\n",
       "      <td>PICKUP TRUCK: STANDARD</td>\n",
       "      <td>5.3</td>\n",
       "      <td>8</td>\n",
       "      <td>A6</td>\n",
       "      <td>E</td>\n",
       "      <td>23.1</td>\n",
       "      <td>19.6</td>\n",
       "      <td>21.5</td>\n",
       "      <td>13</td>\n",
       "      <td>358</td>\n",
       "    </tr>\n",
       "    <tr>\n",
       "      <th>22159</th>\n",
       "      <td>2022</td>\n",
       "      <td>LAMBORGHINI</td>\n",
       "      <td>Aventador Countach</td>\n",
       "      <td>TWO-SEATER</td>\n",
       "      <td>6.5</td>\n",
       "      <td>12</td>\n",
       "      <td>AM7</td>\n",
       "      <td>Z</td>\n",
       "      <td>26.5</td>\n",
       "      <td>14.6</td>\n",
       "      <td>21.2</td>\n",
       "      <td>13</td>\n",
       "      <td>489</td>\n",
       "    </tr>\n",
       "    <tr>\n",
       "      <th>22160</th>\n",
       "      <td>2022</td>\n",
       "      <td>LAMBORGHINI</td>\n",
       "      <td>Aventador Ultimae Coupe</td>\n",
       "      <td>TWO-SEATER</td>\n",
       "      <td>6.5</td>\n",
       "      <td>12</td>\n",
       "      <td>AM7</td>\n",
       "      <td>Z</td>\n",
       "      <td>26.8</td>\n",
       "      <td>15.1</td>\n",
       "      <td>21.5</td>\n",
       "      <td>13</td>\n",
       "      <td>498</td>\n",
       "    </tr>\n",
       "    <tr>\n",
       "      <th>22161</th>\n",
       "      <td>2022</td>\n",
       "      <td>LAMBORGHINI</td>\n",
       "      <td>Aventador Ultimae Roadster</td>\n",
       "      <td>TWO-SEATER</td>\n",
       "      <td>6.5</td>\n",
       "      <td>12</td>\n",
       "      <td>AM7</td>\n",
       "      <td>Z</td>\n",
       "      <td>26.8</td>\n",
       "      <td>15.1</td>\n",
       "      <td>21.5</td>\n",
       "      <td>13</td>\n",
       "      <td>498</td>\n",
       "    </tr>\n",
       "    <tr>\n",
       "      <th>22444</th>\n",
       "      <td>2022</td>\n",
       "      <td>RAM</td>\n",
       "      <td>1500 4X4 TRX</td>\n",
       "      <td>PICKUP TRUCK: STANDARD</td>\n",
       "      <td>6.2</td>\n",
       "      <td>8</td>\n",
       "      <td>A8</td>\n",
       "      <td>Z</td>\n",
       "      <td>22.4</td>\n",
       "      <td>16.5</td>\n",
       "      <td>19.8</td>\n",
       "      <td>14</td>\n",
       "      <td>465</td>\n",
       "    </tr>\n",
       "  </tbody>\n",
       "</table>\n",
       "<p>284 rows × 13 columns</p>\n",
       "</div>"
      ],
      "text/plain": [
       "       YEAR         MAKE                            MODEL  \\\n",
       "10134  2011      BUGATTI                           VEYRON   \n",
       "10164  2011     CADILLAC                     ESCALADE AWD   \n",
       "10166  2011     CADILLAC                 ESCALADE ESV AWD   \n",
       "10218  2011    CHEVROLET           EXPRESS 2500 PASSENGER   \n",
       "10220  2011    CHEVROLET           EXPRESS 2500 PASSENGER   \n",
       "...     ...          ...                              ...   \n",
       "22000  2022          GMC  Sierra 4WD Mud Terrain Tire FFV   \n",
       "22159  2022  LAMBORGHINI               Aventador Countach   \n",
       "22160  2022  LAMBORGHINI          Aventador Ultimae Coupe   \n",
       "22161  2022  LAMBORGHINI       Aventador Ultimae Roadster   \n",
       "22444  2022          RAM                     1500 4X4 TRX   \n",
       "\n",
       "                VEHICLE CLASS  ENGINE SIZE  CYLINDERS TRANSMISSION FUEL  \\\n",
       "10134              TWO-SEATER          8.0         16          AS7    Z   \n",
       "10164                     SUV          6.2          8           A6    E   \n",
       "10166                     SUV          6.2          8           A6    E   \n",
       "10218         VAN - PASSENGER          4.8          8           A6    E   \n",
       "10220         VAN - PASSENGER          6.0          8           A6    E   \n",
       "...                       ...          ...        ...          ...  ...   \n",
       "22000  PICKUP TRUCK: STANDARD          5.3          8           A6    E   \n",
       "22159              TWO-SEATER          6.5         12          AM7    Z   \n",
       "22160              TWO-SEATER          6.5         12          AM7    Z   \n",
       "22161              TWO-SEATER          6.5         12          AM7    Z   \n",
       "22444  PICKUP TRUCK: STANDARD          6.2          8           A8    Z   \n",
       "\n",
       "       FUEL CONSUMPTION  HWY (L/100 km)  COMB (L/100 km)  COMB (mpg)  \\\n",
       "10134              26.1            15.5             21.3          13   \n",
       "10164              21.2            13.8             17.9          16   \n",
       "10166              23.5            15.3             19.8          14   \n",
       "10218              25.9            16.7             21.7          13   \n",
       "10220              27.5            17.4             23.0          12   \n",
       "...                 ...             ...              ...         ...   \n",
       "22000              23.1            19.6             21.5          13   \n",
       "22159              26.5            14.6             21.2          13   \n",
       "22160              26.8            15.1             21.5          13   \n",
       "22161              26.8            15.1             21.5          13   \n",
       "22444              22.4            16.5             19.8          14   \n",
       "\n",
       "       EMISSIONS  \n",
       "10134        490  \n",
       "10164        286  \n",
       "10166        317  \n",
       "10218        347  \n",
       "10220        368  \n",
       "...          ...  \n",
       "22000        358  \n",
       "22159        489  \n",
       "22160        498  \n",
       "22161        498  \n",
       "22444        465  \n",
       "\n",
       "[284 rows x 13 columns]"
      ]
     },
     "execution_count": 47,
     "metadata": {},
     "output_type": "execute_result"
    }
   ],
   "source": [
    "outliers"
   ]
  },
  {
   "cell_type": "markdown",
   "metadata": {},
   "source": [
    "Dropping outliers using Z-score"
   ]
  },
  {
   "cell_type": "code",
   "execution_count": 48,
   "metadata": {},
   "outputs": [],
   "source": [
    "from scipy.stats import zscore"
   ]
  },
  {
   "cell_type": "code",
   "execution_count": 49,
   "metadata": {},
   "outputs": [],
   "source": [
    "#Calculate Z-scores for each value in the column\n",
    "df['z_score'] = zscore(df['FUEL CONSUMPTION'])"
   ]
  },
  {
   "cell_type": "code",
   "execution_count": 50,
   "metadata": {},
   "outputs": [],
   "source": [
    "#Define a threshold for identifying outliers, usually 3 or -3\n",
    "df = df[(df['z_score'] <= 3) & (df['z_score'] >= -3)]"
   ]
  },
  {
   "cell_type": "code",
   "execution_count": 51,
   "metadata": {},
   "outputs": [],
   "source": [
    "#Drop the 'z_score' column if no longer needed\n",
    "df = df.drop(columns=['z_score'])"
   ]
  },
  {
   "cell_type": "code",
   "execution_count": 52,
   "metadata": {},
   "outputs": [
    {
     "data": {
      "text/plain": [
       "(12450, 13)"
      ]
     },
     "execution_count": 52,
     "metadata": {},
     "output_type": "execute_result"
    }
   ],
   "source": [
    "df.shape"
   ]
  }
 ],
 "metadata": {
  "kernelspec": {
   "display_name": "Python 3 (ipykernel)",
   "language": "python",
   "name": "python3"
  },
  "language_info": {
   "codemirror_mode": {
    "name": "ipython",
    "version": 3
   },
   "file_extension": ".py",
   "mimetype": "text/x-python",
   "name": "python",
   "nbconvert_exporter": "python",
   "pygments_lexer": "ipython3",
   "version": "3.8.16"
  }
 },
 "nbformat": 4,
 "nbformat_minor": 2
}
