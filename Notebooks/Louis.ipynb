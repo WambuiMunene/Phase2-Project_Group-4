{
 "cells": [
  {
   "cell_type": "markdown",
   "metadata": {},
   "source": [
    "## Introduction\n",
    "In this project, we analyze fuel consumption data from various car models between 2000 and 2022. Given rising fuel costs and current economic constraints, consumers are increasingly prioritizing fuel-efficient vehicles. Our client, Emmotoka Car Dealers, a new car dealership in Uganda with the tagline \"Motor is driving made affordable,\" is focused on stocking vehicles that offer the best fuel efficiency and are no more than 14 years old. This study aims to uncover key trends in fuel efficiency and identify factors influencing fuel consumption, providing Emmotoka with data-driven insights to help them select the ideal inventory to meet consumer needs.\n"
   ]
  },
  {
   "cell_type": "markdown",
   "metadata": {},
   "source": [
    "## Problem Statement\n",
    "*Due to challenging economic times, consumers are increasingly seeking fuel-efficient vehicles that offer savings on long-term fuel costs. Emmotoka Car Dealers is preparing to launch a dealership in Uganda and wants to stock cars that are no more than 14 years old, with a strong emphasis on fuel efficiency. Emmotoka has provided a dataset with fuel consumption data for various car models from 2000 to 2022 and seeks guidance on identifying the most fuel-efficient models. This analysis will focus on fuel efficiency trends, the impact of different vehicle features on fuel consumption, and recommendations for the best models to stock based on these insights.*\n",
    "\n"
   ]
  },
  {
   "cell_type": "markdown",
   "metadata": {},
   "source": [
    "![Emmotoka Car Dealers](Emmotoka.png)\n"
   ]
  },
  {
   "cell_type": "markdown",
   "metadata": {},
   "source": [
    "## Objectives\n",
    "1. Understanding the date(EDA)\n",
    "2. Identify Factors Affecting Fuel Efficiency\n",
    "3. Conduct Statistical Testing\n",
    "4. Build a Predictive Model for Fuel Efficiency\n",
    "5. Make Recommendations on Inventory\n"
   ]
  }
 ],
 "metadata": {
  "kernelspec": {
   "display_name": "base",
   "language": "python",
   "name": "python3"
  },
  "language_info": {
   "name": "python",
   "version": "3.12.4"
  }
 },
 "nbformat": 4,
 "nbformat_minor": 4
}
