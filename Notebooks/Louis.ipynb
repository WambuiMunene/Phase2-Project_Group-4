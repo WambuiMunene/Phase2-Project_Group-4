{
 "cells": [
  {
   "cell_type": "markdown",
   "metadata": {},
   "source": [
    "## Introduction\n",
    "In this project, we analyze fuel consumption data from various car models between 2000 and 2022. Given rising fuel costs and current economic constraints, consumers are increasingly prioritizing fuel-efficient vehicles. Our client, Emmotoka Car Dealers, a new car dealership in Uganda with the tagline \"Motor is driving made affordable,\" is focused on stocking vehicles that offer the best fuel efficiency and are no more than 14 years old. This study aims to uncover key trends in fuel efficiency and identify factors influencing fuel consumption, providing Emmotoka with data-driven insights to help them select the ideal inventory to meet consumer needs.\n"
   ]
  },
  {
   "cell_type": "markdown",
   "metadata": {},
   "source": [
    "## Problem Statement\n",
    "*Due to challenging economic times, consumers are increasingly seeking fuel-efficient vehicles that offer savings on long-term fuel costs. Emmotoka Car Dealers is preparing to launch a dealership in Uganda and wants to stock cars that are no more than 14 years old, with a strong emphasis on fuel efficiency. Emmotoka has provided a dataset with fuel consumption data for various car models from 2000 to 2022 and seeks guidance on identifying the most fuel-efficient models. This analysis will focus on fuel efficiency trends, the impact of different vehicle features on fuel consumption, and recommendations for the best models to stock based on these insights.*\n",
    "\n"
   ]
  },
  {
   "cell_type": "markdown",
   "metadata": {},
   "source": [
    "![Emmotoka Car Dealers](Emmotoka.png)\n"
   ]
  },
  {
   "cell_type": "markdown",
   "metadata": {},
   "source": [
    "## Objectives\n",
    "1. Understanding the data(EDA)\n",
    "2. Identify Factors Affecting Fuel Efficiency/Data analysis\n",
    "3. Conduct Statistical Testing\n",
    "4. Build a Predictive Model for Fuel Efficiency\n",
    "5. Make Recommendations on Inventory\n"
   ]
  },
  {
   "cell_type": "markdown",
   "metadata": {},
   "source": [
    "## Data Overview\n",
    "*Datasets provide model-specific fuel consumption ratings and estimated carbon dioxide emissions for new light-duty vehicles for retail sale in Canada.*\n",
    "\n",
    "### Data Info\n",
    "**Model**\n",
    "- 4WD/4X4 = Four-wheel drive\n",
    "- AWD = All-wheel drive\n",
    "- CNG = Compressed natural gas\n",
    "- FFV = Flexible-fuel vehicle\n",
    "- NGV = Natural gas vehicle\n",
    "- '# = High output engine that provides more power than the standard engine of the same size\n",
    "\n",
    "**Transmission**\n",
    "- A = Automatic\n",
    "- AM = Automated manual\n",
    "- AS = Automatic with select shift\n",
    "- AV = Continuously variable\n",
    "- M = Manual\n",
    "- 3 - 10 = Number of gears\n",
    "\n",
    "**Fuel Type**\n",
    "- X = Regular gasoline\n",
    "- Z = Premium gasoline\n",
    "- D = Diesel\n",
    "- E = Ethanol (E85)\n",
    "- N = Natural Gas\n",
    "\n",
    "**Fuel Consumption**\n",
    "*City and highway fuel consumption ratings are shown in litres per 100 kilometres (L/100 km) - combined rating (55% city, 45% hwy) is shown in L/100 km and in miles per imperial gallon (mpg)\n",
    "CO2 Emissions (g/km),Estimated tailpipe carbon dioxide emissions (in grams per kilometre) are based on fuel type and the combined fuel consumption rating.*\n",
    "\n",
    "**DATA SOURCE** https://www.kaggle.com/datasets/ahmettyilmazz/fuel-consumption"
   ]
  },
  {
   "cell_type": "markdown",
   "metadata": {},
   "source": [
    "## Exploring the data"
   ]
  },
  {
   "cell_type": "code",
   "execution_count": 1,
   "metadata": {},
   "outputs": [
    {
     "name": "stdout",
     "output_type": "stream",
     "text": [
      "The history saving thread hit an unexpected error (OperationalError('unable to open database file')).History will not be written to the database.\n"
     ]
    }
   ],
   "source": [
    "# Loading liraries\n",
    "import pandas as pd\n",
    "import numpy as np\n",
    "import seaborn as sns\n",
    "import statsmodels.api as sm\n",
    "import scipy.stats as stats\n",
    "import matplotlib.pyplot as plt\n",
    "%matplotlib inline"
   ]
  },
  {
   "cell_type": "code",
   "execution_count": 1,
   "metadata": {},
   "outputs": [
    {
     "ename": "NameError",
     "evalue": "name 'pd' is not defined",
     "output_type": "error",
     "traceback": [
      "\u001b[0;31m---------------------------------------------------------------------------\u001b[0m",
      "\u001b[0;31mNameError\u001b[0m                                 Traceback (most recent call last)",
      "Cell \u001b[0;32mIn[1], line 2\u001b[0m\n\u001b[1;32m      1\u001b[0m \u001b[38;5;66;03m# Load the data\u001b[39;00m\n\u001b[0;32m----> 2\u001b[0m df \u001b[38;5;241m=\u001b[39m pd\u001b[38;5;241m.\u001b[39mread_csv(\u001b[38;5;124m\"\u001b[39m\u001b[38;5;124mFuel_Consumption_2000_2022.csv\u001b[39m\u001b[38;5;124m\"\u001b[39m)\n\u001b[1;32m      3\u001b[0m df\u001b[38;5;241m.\u001b[39mhead()\n",
      "\u001b[0;31mNameError\u001b[0m: name 'pd' is not defined"
     ]
    }
   ],
   "source": [
    "# Load the data\n",
    "df = pd.read_csv(\"Fuel_Consumption_2000_2022.csv\")\n",
    "df.head()"
   ]
  }
 ],
 "metadata": {
  "kernelspec": {
   "display_name": "base",
   "language": "python",
   "name": "python3"
  },
  "language_info": {
   "codemirror_mode": {
    "name": "ipython",
    "version": 3
   },
   "file_extension": ".py",
   "mimetype": "text/x-python",
   "name": "python",
   "nbconvert_exporter": "python",
   "pygments_lexer": "ipython3",
   "version": "3.12.4"
  }
 },
 "nbformat": 4,
 "nbformat_minor": 4
}
