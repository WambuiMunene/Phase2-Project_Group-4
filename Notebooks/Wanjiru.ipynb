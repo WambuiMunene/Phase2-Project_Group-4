{
 "cells": [
  {
   "cell_type": "markdown",
   "metadata": {},
   "source": [
    "## Business Understanding\n",
    "\n",
    "### Overview\n",
    "\n",
    "A car hire business also refered to as a car rental business provides vehicles for short-term use, usually ranging from a few hours to several days or weeks, to customers who require temporary transportation. This business is necessary in catering to individuals or businesses who do not own a car, those who need an extra vehicle for travel, or people who require specific types of vehicles for particular occasions. Car hire businesses are often part of the larger transportation and travel industries, serving both local and international customers. The car hire business operates by renting out a fleet of vehicles, often located at various rental locations, such as airports, train stations, or urban centers. These businesses offer a variety of vehicles ranging from economy cars to luxury cars, SUVs, vans, and trucks depending on customer demand. Some companies may also specialize in niche markets like luxury car rentals, wedding cars, or electric vehicle rentals.\n",
    "\n",
    "### Business Problem\n",
    "\n",
    "V magic Limited company now sees all the big companies diversifying to car rental business and they want to get in on the fun. They have to decide which cars to purchase depending on make, model, fuel consumption, emissions etc. I am charged with exploring what model and make of cars that are currently doing the best at the car rental industry. I must then translate those findings into actionable insights that the head of the company's car rental session can use to help him decide what type of make and model of cars to purchase. \n",
    "\n",
    "### Objectives\n",
    "\n",
    " 1.\tAnalyze vehicle performance across different makes and models, through assesment of the fuel efficiency and engine size\n",
    " \n",
    " 2. Identify the most popular vehicle classes for car rental business by examining the relationship between vehicle class and rental market demand.\n",
    "\n",
    " 3. Evaluate the cost and environmental impact of potential fleet vehicles using fuel consumption and emissions.\n",
    " \n",
    " 4. Perform a comparative analysis of vehicle makes and models.\n",
    "\n",
    " 5. Analyze the relationship between transmission type and fuel consumption to determine how different transmission types impact the fuel efficiency of vehicles.\n",
    "\n",
    " 6. Evaluate the relationship between Fuel type and Emissions."
   ]
  },
  {
   "cell_type": "markdown",
   "metadata": {},
   "source": [
    "## Data Understanding\n",
    "\n",
    "### Data Source\n",
    "For this project, we are working with a dataset that was sourced from [Kaggle](https://www.kaggle.com/datasets/ahmettyilmazz/fuel-consumption), the dataset contains information on a variety of vehicles, focusing on attributes such as make, model, vehicle class, engine size, fuel consumption, emissions, and other key features that are relevant for analyzing the performance and suitability of cars for a car hire business.\n",
    "\n",
    "### Data Description\n",
    "The dataset includes the following key attributes:\n",
    "\n",
    "1. Year: The model year of the vehicle.\n",
    "2. Make: The manufacturer or brand of the vehicle. \n",
    "3. Model: The specific model of the vehicle. \n",
    "4. Vehicle Class: The category or class of the vehicle.\n",
    "5. Engine Size: The size of the engine in liters.\n",
    "6. Cylinders: The number of cylinders in the engine.\n",
    "7. Transmission: The type of transmissiontic.\n",
    "8. Fuel: The type of fuel used by the vehicle.\n",
    "9. Fuel Consumption: The fuel consumption in liters per 100 kilometers.\n",
    "10. Highway Fuel Consumption (HWY): Fuel consumption on the highway in liters per 100 kilometers.\n",
    "11. Combined Fuel Consumption (COMB): The combined fuel consumption (city + highway) in liters per 100 kilometers.\n",
    "12. Combined Fuel Economy (COMB MPG): The combined fuel economy in miles per gallon.\n",
    "13. Emissions: The CO2 emissions of the vehicle in grams per kilometer."
   ]
  },
  {
   "cell_type": "markdown",
   "metadata": {},
   "source": [
    "## Data Preparation\n",
    "\n",
    "### Importing libraries and reading the dataset"
   ]
  },
  {
   "cell_type": "code",
   "execution_count": 1,
   "metadata": {},
   "outputs": [],
   "source": [
    "# Importing the relevant libraries\n",
    "import pandas as pd\n",
    "import numpy as np\n",
    "import seaborn as sns\n",
    "import statsmodels.api as sm\n",
    "import scipy.stats as stats\n",
    "import matplotlib.pyplot as plt\n",
    "%matplotlib inline\n",
    "\n",
    "import warnings\n",
    "warnings.filterwarnings(\"ignore\")"
   ]
  },
  {
   "cell_type": "code",
   "execution_count": 2,
   "metadata": {},
   "outputs": [
    {
     "data": {
      "text/html": [
       "<div>\n",
       "<style scoped>\n",
       "    .dataframe tbody tr th:only-of-type {\n",
       "        vertical-align: middle;\n",
       "    }\n",
       "\n",
       "    .dataframe tbody tr th {\n",
       "        vertical-align: top;\n",
       "    }\n",
       "\n",
       "    .dataframe thead th {\n",
       "        text-align: right;\n",
       "    }\n",
       "</style>\n",
       "<table border=\"1\" class=\"dataframe\">\n",
       "  <thead>\n",
       "    <tr style=\"text-align: right;\">\n",
       "      <th></th>\n",
       "      <th>YEAR</th>\n",
       "      <th>MAKE</th>\n",
       "      <th>MODEL</th>\n",
       "      <th>VEHICLE CLASS</th>\n",
       "      <th>ENGINE SIZE</th>\n",
       "      <th>CYLINDERS</th>\n",
       "      <th>TRANSMISSION</th>\n",
       "      <th>FUEL</th>\n",
       "      <th>FUEL CONSUMPTION</th>\n",
       "      <th>HWY (L/100 km)</th>\n",
       "      <th>COMB (L/100 km)</th>\n",
       "      <th>COMB (mpg)</th>\n",
       "      <th>EMISSIONS</th>\n",
       "    </tr>\n",
       "  </thead>\n",
       "  <tbody>\n",
       "    <tr>\n",
       "      <th>0</th>\n",
       "      <td>2000</td>\n",
       "      <td>ACURA</td>\n",
       "      <td>1.6EL</td>\n",
       "      <td>COMPACT</td>\n",
       "      <td>1.6</td>\n",
       "      <td>4</td>\n",
       "      <td>A4</td>\n",
       "      <td>X</td>\n",
       "      <td>9.2</td>\n",
       "      <td>6.7</td>\n",
       "      <td>8.1</td>\n",
       "      <td>35</td>\n",
       "      <td>186</td>\n",
       "    </tr>\n",
       "    <tr>\n",
       "      <th>1</th>\n",
       "      <td>2000</td>\n",
       "      <td>ACURA</td>\n",
       "      <td>1.6EL</td>\n",
       "      <td>COMPACT</td>\n",
       "      <td>1.6</td>\n",
       "      <td>4</td>\n",
       "      <td>M5</td>\n",
       "      <td>X</td>\n",
       "      <td>8.5</td>\n",
       "      <td>6.5</td>\n",
       "      <td>7.6</td>\n",
       "      <td>37</td>\n",
       "      <td>175</td>\n",
       "    </tr>\n",
       "    <tr>\n",
       "      <th>2</th>\n",
       "      <td>2000</td>\n",
       "      <td>ACURA</td>\n",
       "      <td>3.2TL</td>\n",
       "      <td>MID-SIZE</td>\n",
       "      <td>3.2</td>\n",
       "      <td>6</td>\n",
       "      <td>AS5</td>\n",
       "      <td>Z</td>\n",
       "      <td>12.2</td>\n",
       "      <td>7.4</td>\n",
       "      <td>10.0</td>\n",
       "      <td>28</td>\n",
       "      <td>230</td>\n",
       "    </tr>\n",
       "    <tr>\n",
       "      <th>3</th>\n",
       "      <td>2000</td>\n",
       "      <td>ACURA</td>\n",
       "      <td>3.5RL</td>\n",
       "      <td>MID-SIZE</td>\n",
       "      <td>3.5</td>\n",
       "      <td>6</td>\n",
       "      <td>A4</td>\n",
       "      <td>Z</td>\n",
       "      <td>13.4</td>\n",
       "      <td>9.2</td>\n",
       "      <td>11.5</td>\n",
       "      <td>25</td>\n",
       "      <td>264</td>\n",
       "    </tr>\n",
       "    <tr>\n",
       "      <th>4</th>\n",
       "      <td>2000</td>\n",
       "      <td>ACURA</td>\n",
       "      <td>INTEGRA</td>\n",
       "      <td>SUBCOMPACT</td>\n",
       "      <td>1.8</td>\n",
       "      <td>4</td>\n",
       "      <td>A4</td>\n",
       "      <td>X</td>\n",
       "      <td>10.0</td>\n",
       "      <td>7.0</td>\n",
       "      <td>8.6</td>\n",
       "      <td>33</td>\n",
       "      <td>198</td>\n",
       "    </tr>\n",
       "  </tbody>\n",
       "</table>\n",
       "</div>"
      ],
      "text/plain": [
       "   YEAR   MAKE    MODEL VEHICLE CLASS  ENGINE SIZE  CYLINDERS TRANSMISSION  \\\n",
       "0  2000  ACURA    1.6EL       COMPACT          1.6          4           A4   \n",
       "1  2000  ACURA    1.6EL       COMPACT          1.6          4           M5   \n",
       "2  2000  ACURA    3.2TL      MID-SIZE          3.2          6          AS5   \n",
       "3  2000  ACURA    3.5RL      MID-SIZE          3.5          6           A4   \n",
       "4  2000  ACURA  INTEGRA    SUBCOMPACT          1.8          4           A4   \n",
       "\n",
       "  FUEL  FUEL CONSUMPTION  HWY (L/100 km)  COMB (L/100 km)  COMB (mpg)  \\\n",
       "0    X               9.2             6.7              8.1          35   \n",
       "1    X               8.5             6.5              7.6          37   \n",
       "2    Z              12.2             7.4             10.0          28   \n",
       "3    Z              13.4             9.2             11.5          25   \n",
       "4    X              10.0             7.0              8.6          33   \n",
       "\n",
       "   EMISSIONS  \n",
       "0        186  \n",
       "1        175  \n",
       "2        230  \n",
       "3        264  \n",
       "4        198  "
      ]
     },
     "execution_count": 2,
     "metadata": {},
     "output_type": "execute_result"
    }
   ],
   "source": [
    "# reading the dataset and printing the first 5 rows\n",
    "df = pd.read_csv(\"Fuel_Consumption_2000_2022.csv\")\n",
    "df.head()"
   ]
  },
  {
   "cell_type": "code",
   "execution_count": 3,
   "metadata": {},
   "outputs": [
    {
     "name": "stdout",
     "output_type": "stream",
     "text": [
      "The shape of the dataset is (22556, 13)\n",
      "\n",
      "The type of the dataset is <class 'pandas.core.frame.DataFrame'>\n",
      "\n",
      "The dataset columns are Index(['YEAR', 'MAKE', 'MODEL', 'VEHICLE CLASS', 'ENGINE SIZE', 'CYLINDERS',\n",
      "       'TRANSMISSION', 'FUEL', 'FUEL CONSUMPTION', 'HWY (L/100 km)',\n",
      "       'COMB (L/100 km)', 'COMB (mpg)', 'EMISSIONS'],\n",
      "      dtype='object')\n"
     ]
    }
   ],
   "source": [
    "df.shape\n",
    "type(df)\n",
    "df.columns\n",
    "\n",
    "print(f\"The shape of the dataset is {df.shape}\")\n",
    "print(f\"\\nThe type of the dataset is {type(df)}\")\n",
    "print(f\"\\nThe dataset columns are {df.columns}\")"
   ]
  },
  {
   "cell_type": "code",
   "execution_count": 4,
   "metadata": {},
   "outputs": [
    {
     "name": "stdout",
     "output_type": "stream",
     "text": [
      "The dataset columns after title-case are Index(['Year', 'Make', 'Model', 'Vehicle Class', 'Engine Size', 'Cylinders',\n",
      "       'Transmission', 'Fuel', 'Fuel Consumption', 'Hwy (L/100 Km)',\n",
      "       'Comb (L/100 Km)', 'Comb (Mpg)', 'Emissions'],\n",
      "      dtype='object')\n"
     ]
    }
   ],
   "source": [
    "# Title-case column names and then assign it back to df.columns\n",
    "df.columns = df.columns.str.title()\n",
    "# Preview\n",
    "print(f\"The dataset columns after title-case are {df.columns}\")"
   ]
  },
  {
   "cell_type": "code",
   "execution_count": 5,
   "metadata": {},
   "outputs": [
    {
     "name": "stdout",
     "output_type": "stream",
     "text": [
      "<class 'pandas.core.frame.DataFrame'>\n",
      "RangeIndex: 22556 entries, 0 to 22555\n",
      "Data columns (total 13 columns):\n",
      " #   Column            Non-Null Count  Dtype  \n",
      "---  ------            --------------  -----  \n",
      " 0   Year              22556 non-null  int64  \n",
      " 1   Make              22556 non-null  object \n",
      " 2   Model             22556 non-null  object \n",
      " 3   Vehicle Class     22556 non-null  object \n",
      " 4   Engine Size       22556 non-null  float64\n",
      " 5   Cylinders         22556 non-null  int64  \n",
      " 6   Transmission      22556 non-null  object \n",
      " 7   Fuel              22556 non-null  object \n",
      " 8   Fuel Consumption  22556 non-null  float64\n",
      " 9   Hwy (L/100 Km)    22556 non-null  float64\n",
      " 10  Comb (L/100 Km)   22556 non-null  float64\n",
      " 11  Comb (Mpg)        22556 non-null  int64  \n",
      " 12  Emissions         22556 non-null  int64  \n",
      "dtypes: float64(4), int64(4), object(5)\n",
      "memory usage: 2.2+ MB\n"
     ]
    }
   ],
   "source": [
    "df.info()"
   ]
  },
  {
   "cell_type": "markdown",
   "metadata": {},
   "source": [
    "## Exploratory Data Analysis\n",
    "\n",
    "### Data Cleaning, Identifying and handling issues in the dataset that is:\n",
    "\n",
    "1. Checking for missing values, Filling or removing missing data.\n",
    "2. Cheking for duplicate records, Identifying and removing duplicate rows.\n",
    "3. Performing Univariate Analysis and Bivariate\n",
    "4. Checking and Removing outliers\n"
   ]
  },
  {
   "cell_type": "code",
   "execution_count": 6,
   "metadata": {},
   "outputs": [
    {
     "data": {
      "text/plain": [
       "Year                0\n",
       "Make                0\n",
       "Model               0\n",
       "Vehicle Class       0\n",
       "Engine Size         0\n",
       "Cylinders           0\n",
       "Transmission        0\n",
       "Fuel                0\n",
       "Fuel Consumption    0\n",
       "Hwy (L/100 Km)      0\n",
       "Comb (L/100 Km)     0\n",
       "Comb (Mpg)          0\n",
       "Emissions           0\n",
       "dtype: int64"
      ]
     },
     "execution_count": 6,
     "metadata": {},
     "output_type": "execute_result"
    }
   ],
   "source": [
    "# checking for any missing values\n",
    "df.isna().sum() # our dataset has no missing values\n"
   ]
  },
  {
   "cell_type": "code",
   "execution_count": 7,
   "metadata": {},
   "outputs": [
    {
     "data": {
      "text/plain": [
       "1"
      ]
     },
     "execution_count": 7,
     "metadata": {},
     "output_type": "execute_result"
    }
   ],
   "source": [
    "# checking for duplicates\n",
    "df.duplicated().sum() # we have one duplicated row"
   ]
  },
  {
   "cell_type": "code",
   "execution_count": 8,
   "metadata": {},
   "outputs": [
    {
     "name": "stdout",
     "output_type": "stream",
     "text": [
      "DataFrame after dropping duplicates:\n",
      "0\n"
     ]
    }
   ],
   "source": [
    "# dropping the duplicated row and previewing\n",
    "df.drop_duplicates(keep='first', inplace=True)\n",
    "# Preview\n",
    "print(\"DataFrame after dropping duplicates:\")\n",
    "print(df.duplicated().sum())"
   ]
  },
  {
   "cell_type": "markdown",
   "metadata": {},
   "source": [
    "# Univariante Analysis"
   ]
  },
  {
   "cell_type": "code",
   "execution_count": null,
   "metadata": {},
   "outputs": [],
   "source": [
    "# checking for the statistical distrution of numerical columins\n",
    "df.describe()"
   ]
  },
  {
   "cell_type": "code",
   "execution_count": null,
   "metadata": {},
   "outputs": [],
   "source": [
    "# defining our numerical columns\n",
    "numerical_col = [\"Engine Size\", \"Cylinders\", \"Fuel Consumption\", \"Hwy (L/100 Km)\", \"Comb (L/100 Km)\", \"Comb (Mpg)\", \"Emissions\"]"
   ]
  },
  {
   "cell_type": "code",
   "execution_count": null,
   "metadata": {},
   "outputs": [],
   "source": [
    "# Plot histograms for all the numerical columns\n",
    "plt.figure(figsize=(12, 8))\n",
    "\n",
    "# Creating histograms for each numerical column\n",
    "for i, col in enumerate(numerical_col):\n",
    "    plt.subplot(3, 3, i+1)  \n",
    "    sns.histplot(df[col], kde=True)\n",
    "    plt.title(f'{col} Distribution')\n",
    "    plt.xlabel(col)\n",
    "    plt.ylabel('Frequency')\n",
    "plt.tight_layout()\n",
    "plt.show()\n"
   ]
  },
  {
   "cell_type": "code",
   "execution_count": null,
   "metadata": {},
   "outputs": [],
   "source": [
    "# Calculating the IQR for each numerical variable\n",
    "Q1 = df[numerical_col].quantile(0.25)\n",
    "Q3 = df[numerical_col].quantile(0.75)\n",
    "IQR = Q3 - Q1\n",
    "\n",
    "# Identifying outliers using IQR method\n",
    "outliers = ((df[numerical_col] < (Q1 - 1.5 * IQR)) | (df[numerical_col] > (Q3 + 1.5 * IQR)))\n",
    "outliers_sum = outliers.sum()\n",
    "\n",
    "# Print the number of outliers for each column\n",
    "print(outliers_sum)\n"
   ]
  },
  {
   "cell_type": "code",
   "execution_count": null,
   "metadata": {},
   "outputs": [],
   "source": [
    "# Defining the IQR bounds for each column\n",
    "Q1 = df[numerical_col].quantile(0.25)\n",
    "Q3 = df[numerical_col].quantile(0.75)\n",
    "IQR = Q3 - Q1\n",
    "\n",
    "# This checks if each value is within the IQR range for all columns in numerical_col\n",
    "df1 = df[~((df[numerical_col] < (Q1 - 1.5 * IQR)) | (df[numerical_col] > (Q3 + 1.5 * IQR))).any(axis=1)]\n",
    "\n",
    "# Displaying the shape of the new dataset to see how many rows were removed\n",
    "print(\"Original dataset shape:\", df.shape)\n",
    "print(\"New dataset shape after removing outliers:\", df1.shape)\n"
   ]
  },
  {
   "cell_type": "code",
   "execution_count": null,
   "metadata": {},
   "outputs": [],
   "source": [
    "# To preview our visualizaton if outliers were dropped\n",
    "# Ploting histograms for all numerical columns\n",
    "plt.figure(figsize=(12, 8))\n",
    "for i, col in enumerate(numerical_col):\n",
    "    # Ploting the histogram \n",
    "    plt.subplot(3, 3, i+1) \n",
    "    sns.histplot(df1[col], kde=True)\n",
    "    plt.title(f'{col} - After Outliers Removed')\n",
    "    plt.xlabel(col)\n",
    "    plt.ylabel('Frequency')\n",
    "plt.tight_layout()\n",
    "plt.show()"
   ]
  },
  {
   "cell_type": "markdown",
   "metadata": {},
   "source": [
    "This graph above shows the univariate distributions of key vehicle features after outlier removal, with each histogram overlaid by a (Kernel Density Estimation) KDE line for smoother visualization. The KDE lines closely fit the histograms, indicating that each feature follows expected distributions without distortion from extreme values.\n",
    "\n",
    "1. Engine Size: Peaks around 2-3 liters, with fewer large engines, showing typical values without extreme skew.\n",
    "2. Cylinders: Multimodal distribution, peaking at 4, 6, and 8 cylinders—common configurations in vehicles.\n",
    "3. Fuel Consumption: Slight right skew, with most vehicles around 10-12 L/100 km, indicating moderate fuel efficiency.\n",
    "4. Fuel Efficiency (L/100 km, MPG): L/100 km is right-skewed, MPG is left-skewed, both indicating a typical efficiency range.\n",
    "5. Emissions: Roughly normal, centered around 250-300, focusing on typical values without outliers.\n",
    "6. KDE Fit: In most cases, KDE lines closely match histogram bars, suggesting well-distributed data patterns without extreme outlier influence. "
   ]
  },
  {
   "cell_type": "code",
   "execution_count": null,
   "metadata": {},
   "outputs": [],
   "source": [
    "# List of columns for which to print value counts\n",
    "columns = ['Make', 'Model', 'Vehicle Class', 'Transmission', 'Fuel']\n",
    "\n",
    "# Loop through each column then print value counts\n",
    "for column in columns:\n",
    "    print(f\"\\nValue counts for '{column}':\")\n",
    "    print(df[column].value_counts())\n"
   ]
  },
  {
   "cell_type": "markdown",
   "metadata": {},
   "source": [
    "#### We drop Vehicle class with a popularity of less than 100"
   ]
  },
  {
   "cell_type": "code",
   "execution_count": null,
   "metadata": {},
   "outputs": [],
   "source": [
    "# Step 1: Identify categories with less than 100 entries\n",
    "counts = df1['Vehicle Class'].value_counts()\n",
    "categories_to_drop = counts[counts < 100].index\n",
    "\n",
    "# Step 2: Filter the DataFrame to keep only rows with 100 etries or more\n",
    "df2 = df1[~df['Vehicle Class'].isin(categories_to_drop)]\n",
    "\n",
    "# Check the new shape to confirm rows were removed\n",
    "print(\"Original shape:\", df1.shape)\n",
    "print(\"New shape after filtering:\", df2.shape)\n"
   ]
  },
  {
   "cell_type": "markdown",
   "metadata": {},
   "source": [
    "### Bivariate Analysis\n",
    "\n",
    "####\n",
    "It is a Statistical analysis that explores the relationship that exist between two variables. Correlation coefficient is one  of the main techniques that is used in bivariate analysis to understand the relationship between two variables. "
   ]
  },
  {
   "cell_type": "code",
   "execution_count": null,
   "metadata": {},
   "outputs": [],
   "source": [
    "correlation_matrix = df2[['Engine Size', 'Cylinders', 'Fuel Consumption', 'Hwy (L/100 Km)', 'Comb (L/100 Km)', 'Comb (Mpg)', 'Emissions']].corr()\n",
    "sns.heatmap(correlation_matrix, annot=True, cmap='coolwarm')"
   ]
  },
  {
   "cell_type": "markdown",
   "metadata": {},
   "source": [
    "#### The above diagram shows the correlation coefficient between varies variables. The close the value to +1 or -1 the greater the association. For instance: \n",
    "\n",
    "1. Fuel Consumption and Comb (L/100 Km) has a correlation coefficient of +0.99 meaning it is a strong positive correlation. Fuel consumption and combined fuel consumption (Comb L/100 Km) are almost perfectly positively correlated\n",
    "\n",
    "2. Comb (MPG) and Comb (L/100 Km) has a Correlation Coefficient: -0.97 a strong negative correlation. Combined miles per gallon (MPG) and combined liters per 100 km (L/100 Km) have a strong negative correlation. "
   ]
  },
  {
   "cell_type": "markdown",
   "metadata": {},
   "source": [
    "### Data Visualization\n",
    "\n",
    "#### Visualization according to variables in relation to objectives"
   ]
  },
  {
   "cell_type": "markdown",
   "metadata": {},
   "source": [
    "Analyze vehicle performance across different makes and models, through assesment of the fuel efficiency and engine size"
   ]
  },
  {
   "cell_type": "code",
   "execution_count": null,
   "metadata": {},
   "outputs": [],
   "source": [
    "# plot graph\n",
    "plt.figure(figsize=(10, 6)) \n",
    "sns.scatterplot(x='Engine Size', y='Fuel Consumption', data=df2)\n",
    "plt.title('Scatter Plot: Engine Size vs Fuel Consumption', fontsize=14)\n",
    "plt.xlabel('Engine Size (L)', fontsize=12)\n",
    "plt.ylabel('Fuel Consumption (L/100 km)', fontsize=12)\n",
    "\n",
    "# Show the p\n",
    "plt.figure(figsize=(10, 6))\n",
    "corr_matrix = df2[['Engine Size', 'Fuel Consumption', 'Hwy (L/100 Km)', 'Comb (L/100 Km)', 'Emissions']].corr()\n",
    "sns.heatmap(corr_matrix, annot=True, cmap='coolwarm', fmt='.2f')\n",
    "plt.title('Correlation Heatmap of Vehicle Metrics')\n",
    "plt.show()"
   ]
  },
  {
   "cell_type": "markdown",
   "metadata": {},
   "source": [
    "### Identify the most popular vehicle classes for car rental business by examining the relationship between vehicle class and rental market demand."
   ]
  },
  {
   "cell_type": "code",
   "execution_count": null,
   "metadata": {},
   "outputs": [],
   "source": [
    "# plot\n",
    "plt.figure(figsize=(10, 6))\n",
    "sns.countplot(x='Vehicle Class', data=df2)\n",
    "plt.title('Most Popular Vehicle Classes for Car Rental')\n",
    "plt.xlabel('Vehicle Class')\n",
    "plt.ylabel('Count of Vehicles')\n",
    "plt.xticks(rotation=70)\n",
    "plt.show()\n"
   ]
  },
  {
   "cell_type": "markdown",
   "metadata": {},
   "source": [
    "#### Evaluate the cost and environmental impact of potential fleet vehicles using fuel consumption and emissions."
   ]
  },
  {
   "cell_type": "code",
   "execution_count": null,
   "metadata": {},
   "outputs": [],
   "source": [
    "# Plotting\n",
    "plt.figure(figsize=(10, 6))\n",
    "sns.scatterplot(x='Fuel Consumption', y='Emissions', data=df2, palette='coolwarm')\n",
    "plt.title('Fuel Consumption vs Emissions')\n",
    "plt.xlabel('Fuel Consumption (L/100 km)')\n",
    "plt.ylabel('Emissions (g/km)')\n",
    "plt.show()\n"
   ]
  },
  {
   "cell_type": "markdown",
   "metadata": {},
   "source": [
    "#### Perform a comparative analysis of vehicle makes and models\n",
    "\n",
    "Visualize the average Fuel Consumption across different Makes of vehicles."
   ]
  },
  {
   "cell_type": "code",
   "execution_count": null,
   "metadata": {},
   "outputs": [],
   "source": [
    "# Ploting\n",
    "plt.figure(figsize=(15, 6))\n",
    "sns.barplot(x='Make', y='Fuel Consumption', data=df2)\n",
    "plt.title('Average Fuel Consumption by Vehicle Make')\n",
    "plt.xlabel('Vehicle Make')\n",
    "plt.ylabel('Average Fuel Consumption (L/100 km)')\n",
    "plt.xticks(rotation=85)\n",
    "plt.show()\n"
   ]
  },
  {
   "cell_type": "markdown",
   "metadata": {},
   "source": [
    " Analyze the relationship between transmission type and fuel consumption to determine how different transmission types impact the fuel efficiency of vehicles."
   ]
  },
  {
   "cell_type": "code",
   "execution_count": null,
   "metadata": {},
   "outputs": [],
   "source": [
    "# Ploting\n",
    "plt.figure(figsize=(10, 6))\n",
    "sns.scatterplot(x='Transmission', y='Fuel Consumption', data=df2)\n",
    "plt.title('Fuel Consumption vs Transmission Type')\n",
    "plt.xlabel('Engine Size (L)')\n",
    "plt.ylabel('Fuel Consumption (L/100 km)')\n",
    "plt.show()\n"
   ]
  },
  {
   "cell_type": "code",
   "execution_count": null,
   "metadata": {},
   "outputs": [],
   "source": [
    "#plot FueL vs emission\n",
    "plt.figure(figsize=(10, 6))\n",
    "\n",
    "# Scatter plot\n",
    "sns.scatterplot(x='Fuel', y='Emissions', data=df2)\n",
    "plt.xlabel('Fuel')\n",
    "plt.ylabel('Emissions (g CO2/km)')\n",
    "plt.title('Scatter Plot of Fuel vs Emissions')\n",
    "plt.show()"
   ]
  },
  {
   "cell_type": "markdown",
   "metadata": {},
   "source": [
    "### Trend analysis for our variables\n",
    "\n",
    "#### Fuel Consumption Over the Years"
   ]
  },
  {
   "cell_type": "code",
   "execution_count": null,
   "metadata": {},
   "outputs": [],
   "source": [
    "# Grouping by 'Year' to get the average fuel consumption\n",
    "yearly_trend = df.groupby('Year')['Fuel Consumption'].mean()\n",
    "\n",
    "# Plot the trend\n",
    "plt.figure(figsize=(10, 6))\n",
    "sns.lineplot(data=yearly_trend, marker='o')\n",
    "plt.title('Trend Analysis of Fuel Consumption Over Years')\n",
    "plt.xlabel('Year')\n",
    "plt.ylabel('Average Fuel Consumption')\n",
    "plt.show()\n"
   ]
  },
  {
   "cell_type": "markdown",
   "metadata": {},
   "source": [
    "#### Trend analysis for Emission Over the years"
   ]
  },
  {
   "cell_type": "code",
   "execution_count": null,
   "metadata": {},
   "outputs": [],
   "source": [
    "# Grouping by 'Year' to get the average emission\n",
    "yearly_trend = df.groupby('Year')['Emissions'].mean()\n",
    "\n",
    "# Plot the trend\n",
    "plt.figure(figsize=(10, 6))\n",
    "sns.lineplot(data=yearly_trend, marker='o')\n",
    "plt.title('Trend Analysis of Emission Over Years')\n",
    "plt.xlabel('Year')\n",
    "plt.ylabel('Average Emissions')\n",
    "plt.show()\n"
   ]
  },
  {
   "cell_type": "markdown",
   "metadata": {},
   "source": [
    "#### Trend analysis for Transmission vs Fuel Consumption"
   ]
  },
  {
   "cell_type": "code",
   "execution_count": null,
   "metadata": {},
   "outputs": [],
   "source": [
    "# Grouping by 'Transmission' vs Fuel Consumption\n",
    "yearly_trend = df.groupby('Transmission')['Fuel Consumption'].mean()\n",
    "\n",
    "# Plot the trend\n",
    "plt.figure(figsize=(10, 6))\n",
    "sns.lineplot(data=yearly_trend, marker='o')\n",
    "plt.title('Trend Analysis of Transmission vs Fuel Consumption')\n",
    "plt.xlabel('Transmission')\n",
    "plt.ylabel('Fuel Consumption')\n",
    "plt.xticks(rotation=45)\n",
    "plt.show()"
   ]
  },
  {
   "cell_type": "markdown",
   "metadata": {},
   "source": [
    "#### Trend analysis of Fuel vs Emission"
   ]
  },
  {
   "cell_type": "code",
   "execution_count": null,
   "metadata": {},
   "outputs": [],
   "source": [
    "# Grouping by 'Fuel' vs Emissions\n",
    "yearly_trend = df.groupby('Fuel')['Emissions'].mean()\n",
    "\n",
    "# Plot the trend\n",
    "plt.figure(figsize=(10, 6))\n",
    "sns.lineplot(data=yearly_trend, marker='o')\n",
    "plt.title('Trend Analysis of Fuel Vs Emission')\n",
    "plt.xlabel('Fuel')\n",
    "plt.ylabel('Emissions')\n",
    "plt.xticks(rotation=45)\n",
    "plt.show()"
   ]
  },
  {
   "cell_type": "markdown",
   "metadata": {},
   "source": [
    "## Modelling and Evaluation\n",
    "\n",
    "### Statistical Analysis"
   ]
  },
  {
   "cell_type": "markdown",
   "metadata": {},
   "source": [
    "#### Analyze vehicle performance across different makes and models, through assesment of the fuel efficiency and engine size\n",
    "\n",
    "#### Stating Hypothesis\n",
    "\n",
    "1. Null Hypothesis (H₀):\n",
    "There is no significant relationship between engine size and fuel efficiency (measured by fuel consumption) across different vehicle makes and models in terms of their engine size.\n",
    "\n",
    "2. Alternative Hypothesis (H₁):\n",
    "There is a significant relationship between engine size and fuel efficiency (measured by fuel consumption) across different vehicle makes and models in terms of their engine size.\n",
    "\n",
    "To test if there is a significant relationship between Fuel efficiency and Engine size we use linear regression model"
   ]
  },
  {
   "cell_type": "code",
   "execution_count": null,
   "metadata": {},
   "outputs": [],
   "source": [
    "# Define X, y\n",
    "X = df2['Engine Size'] \n",
    "y = df2['Fuel Consumption'] \n",
    "\n",
    "# Add a constant \n",
    "X = sm.add_constant(X)\n",
    "\n",
    "# Fitting the regression model\n",
    "model = sm.OLS(y, X).fit()\n",
    "\n",
    "# Print the summary of the model\n",
    "print(model.summary())\n"
   ]
  },
  {
   "cell_type": "markdown",
   "metadata": {},
   "source": [
    "### Key Model Statistics Interpretation\n",
    "\n",
    "•\tR-squared is 0.684 - this is an indication that 68.4% of the variance in fuel consumption is explained by engine size. This is a reasonably high R-squared, suggesting a strong linear relationship between engine size and fuel consumption.\n",
    "\n",
    "•\tAdjusted R-squared is 0.684 - the adjusted R-squared is nearly identical to the R-squared value, showing that adding engine size as the only predictor provides a good fit to the data.\n",
    "\n",
    "•\tF-statistic is 4.575e+04 with a p-value of 0.000 - The high F-statistic with a p-value of 0.000 suggests that the model is statistically significant as a whole, meaning that including engine size in the model significantly improves the fit.\n",
    "\n",
    "### Coefficients\n",
    "•\tConstant (Intercept) is 6.3072, the intercept represents the predicted fuel consumption when the engine size is zero.\n",
    "\n",
    "•\tEngine Size Coefficient is 1.8970 meaning for every 1 unit increase in engine size, fuel consumption increases by 1.897 L/100 km, holding other variables constant. The p-value for this coefficient is 0.000, which is well below the common significance threshold (e.g., 0.05).\n",
    "\n",
    "### Hypothesis Test Conclusion\n",
    "Since the p-value for the engine size coefficient is highly significant (0.000), we ***reject the null hypothesis*** in favor of the alternative hypothesis. This means that there is strong evidence to suggest a significant relationship between engine size and fuel consumption.\n"
   ]
  },
  {
   "cell_type": "code",
   "execution_count": null,
   "metadata": {},
   "outputs": [],
   "source": [
    "# Calculating mean fuel consumption and engine size for each make and model\n",
    "average_fuel_engine = df2.groupby(['Make', 'Model'])[['Fuel Consumption', 'Engine Size']].mean()\n",
    "\n",
    "# Sort by ascending\n",
    "sorted_fuel_engine = average_fuel_engine.sort_values(by=['Fuel Consumption', 'Engine Size'])\n",
    "\n",
    "# Select the top 10\n",
    "top_10_fuel_engine = sorted_fuel_engine.head(10)\n",
    "\n",
    "# Print the results\n",
    "print(top_10_fuel_engine)"
   ]
  },
  {
   "cell_type": "markdown",
   "metadata": {},
   "source": [
    "### Evaluate the cost and environmental impact of potential fleet vehicles using fuel consumption and emissions.\n",
    "\n",
    "### Stating Hypothesis\n",
    "\n",
    "Null Hypothesis (H₀): There is no significant relationship between fuel consumption and emissions.\n",
    "\n",
    "Alternative Hypothesis (H₁): There is a significant relationship between fuel consumption and emissions."
   ]
  },
  {
   "cell_type": "code",
   "execution_count": null,
   "metadata": {},
   "outputs": [],
   "source": [
    "# Define X, y\n",
    "X = df2['Fuel Consumption']\n",
    "y = df2['Emissions']         \n",
    "\n",
    "# Add a constant \n",
    "X = sm.add_constant(X)\n",
    "\n",
    "# Fitting the regression model\n",
    "model = sm.OLS(y, X).fit()\n",
    "\n",
    "# Print the summary of the  model\n",
    "print(model.summary())"
   ]
  },
  {
   "cell_type": "markdown",
   "metadata": {},
   "source": [
    "### Key Model Statistics Interpretation\n",
    "\n",
    "•\tR-squared of 0.866 indicates that 86.5% of the variance in emissions is explained by fuel consumption. This is a strong relationship, showing that fuel consumption is a significant predictor of emissions.\n",
    "\n",
    "•\tAdjusted R-squared of 0.866 is very close to the R-squared, indicating that the model is a good fit, and the adjustment for the number of predictors does not significantly change the result.\n",
    "\n",
    "•\tF-statistic of 1.365e+05 is high, suggesting that the overall regression model is highly significant. The p-value for the F-statistic is 0.00, which is much smaller than 0.05, confirming that the model is statistically significant.\n",
    "\n",
    "### Coefficients\n",
    "•\tThe constant (Intercept) is 35.2681 which is the expected emissions value when fuel consumption is zero. \n",
    "\n",
    "•\tFuel Consumption has a Coefficient of 16.9685 meaning for each unit increase in fuel consumption, emissions increase by 16.97 units. This indicates a positive relationship between fuel consumption and emissions. The more fuel a vehicle consumes; the more emissions it produces.\n",
    "\n",
    "### Hypothesis Test Conclusion\n",
    "\n",
    " The p-value for fuel consumption is 0.000, which is much smaller than 0.05. This means that fuel consumption has a statistically significant impact on emissions,  we therefore ***reject the null hypothesis*** that states that there is no relationship.\n"
   ]
  },
  {
   "cell_type": "code",
   "execution_count": null,
   "metadata": {},
   "outputs": [],
   "source": [
    "# Calculate mean fuel consumption and emissions for each make and model\n",
    "average_fuel_emissions = df2.groupby(['Make', 'Model'])[['Fuel Consumption', 'Emissions']].mean()\n",
    "\n",
    "# Sort by ascending \n",
    "sorted_fuel_emissions = average_fuel_emissions.sort_values(by=['Fuel Consumption', 'Emissions'])\n",
    "\n",
    "# Select the top 10\n",
    "top_10_fuel_emissions = sorted_fuel_emissions.head(10)\n",
    "\n",
    "# Print\n",
    "print(top_10_fuel_emissions)\n"
   ]
  },
  {
   "cell_type": "markdown",
   "metadata": {},
   "source": [
    "### Analyze the relationship between transmission type and fuel consumption to determine how different transmission types impact the fuel efficiency of vehicles.\n",
    "\n",
    "#### Stating Hypothesis\n",
    "\n",
    "Null Hypothesis (H₀):\n",
    "There is no significant relationship between transmission type and fuel consumption.\n",
    "\n",
    "Alternative Hypothesis (H₁):\n",
    "There is a significant relationship between transmission type and fuel consumption."
   ]
  },
  {
   "cell_type": "code",
   "execution_count": null,
   "metadata": {},
   "outputs": [],
   "source": [
    "# Grouping data by Transmission type\n",
    "transmission_groups = df2.groupby('Transmission')['Fuel Consumption'].apply(list)\n",
    "\n",
    "# Perform ANOVA to compare the means of fuel consumption across transmission types\n",
    "f_statistic, p_value = stats.f_oneway(*transmission_groups)\n",
    "\n",
    "# Print results\n",
    "print(f\"F-statistic: {f_statistic}\")\n",
    "print(f\"\\nP-value: {p_value}\")"
   ]
  },
  {
   "cell_type": "markdown",
   "metadata": {},
   "source": [
    "### Key Model Statistics Interpretation\n",
    "\n",
    "F-statistic (146.02): The F-statistic is large, meaning that the differences in fuel consumption between the different transmission types are significantly greater than the differences within each transmission type. This suggests that transmission type has a strong impact on fuel consumption.\n",
    "\n",
    "P-value (0.0): The P-value is 0.0, which is much smaller than the typical threshold of 0.05. This indicates that the likelihood of the result occurring by chance is almost zero.\n",
    "\n",
    "### Hypothesis Test Conclusion\n",
    "Since the P-value is less than 0.05, we ***reject the null hypothesis***. This means there is a significant relationship between transmission type and fuel consumption, implying that the type of transmission used in the vehicle affects how much fuel it consumes."
   ]
  },
  {
   "cell_type": "markdown",
   "metadata": {},
   "source": [
    "#### Analysing the most fuel efficient type of transmission"
   ]
  },
  {
   "cell_type": "code",
   "execution_count": null,
   "metadata": {},
   "outputs": [],
   "source": [
    "# Calculating the mean fuel consumption of make, model, and transmission type\n",
    "average_fuel_consumption = df2.groupby(['Make', 'Model', 'Transmission'])['Fuel Consumption'].mean()\n",
    "\n",
    "# Sorting by asce fuel consumption\n",
    "sorted_transmissions = average_fuel_consumption.sort_values()\n",
    "\n",
    "# Select the top 10 \n",
    "top_10_transmissions = sorted_transmissions.head(10)\n",
    "\n",
    "# Print\n",
    "print(top_10_transmissions)\n",
    "\n"
   ]
  },
  {
   "cell_type": "markdown",
   "metadata": {},
   "source": [
    "### To analyse the effect of fuel type on emissions\n",
    "\n",
    "### Stating Hypothesis\n",
    "\n",
    "Null Hypothesis (H₀):\n",
    "The fuel type has no effect on vehicle emissions.\n",
    "\n",
    "Alternative Hypothesis (H₁):\n",
    "The fuel type has a significant effect on vehicle emissions."
   ]
  },
  {
   "cell_type": "code",
   "execution_count": null,
   "metadata": {},
   "outputs": [],
   "source": [
    "# Group emissions by fuel type\n",
    "fuel_groups = df2.groupby('Fuel')['Emissions'].apply(list)\n",
    "\n",
    "# Performing ANOVA\n",
    "f_statistic, p_value = stats.f_oneway(*fuel_groups)\n",
    "\n",
    "# Printing results\n",
    "print(f\"F-statistic: {f_statistic}\")\n",
    "print(f\"\\nP-value: {p_value}\")"
   ]
  },
  {
   "cell_type": "markdown",
   "metadata": {},
   "source": [
    "### Key Model Statistics Interpretation\n",
    "\n",
    "F-statistic is 88.04 this is quite large; it suggests that the variation between the emissions of different fuel types is much larger than the variation within each fuel type. This implies that the fuel type likely has a strong effect on emissions.\n",
    "\n",
    "The p-value of 2.5-74 which is basically zero is less than the 0.05. This provides strong evidence against the null hypothesis.\n",
    "\n",
    "### Hypothesis Test Conclusion\n",
    "\n",
    "Since the p-value is much less than 0.05, we ***reject the null hypothesis***, concluding that there is a significant relationship between fuel type and emissions.\n"
   ]
  },
  {
   "cell_type": "markdown",
   "metadata": {},
   "source": [
    "## Recommedation \n",
    "\n",
    "1.\tSince fuel consumption is significantly influenced by engine size, V Magic should consider smaller engine sizes for better fuel efficiency. Lower fuel consumption translates to lower operational costs, which can improve profit margins, especially if fuel expenses are a large part of rental overhead.\n",
    "\n",
    "2.\tChoose vehicles with lower fuel consumption to minimize emissions. The analysis clearly shows that higher fuel consumption leads to higher emissions. By selecting fuel-efficient vehicles, V Magic can reduce its environmental impact, aligning with sustainability goals and appealing to eco-conscious customers.\n",
    "\n",
    "3.\tBased on the data, the Hyundai Tucson Hybrid AM6 transmission is the best choice with the lowest fuel consumption (6.80 L/100 km). This means it uses the least fuel for the same distance, offering the most cost-effective operation. Transmission types like AV1, M4, and AV10 follow closely in terms of fuel efficiency, making them strong candidates as well.\n",
    "\n",
    "4. Prioritize Low-Emission Fuel Types, since fuel type considerably impacts emissions, select vehicles that use fuels associated with lower emissions.             "
   ]
  },
  {
   "cell_type": "code",
   "execution_count": null,
   "metadata": {},
   "outputs": [],
   "source": []
  },
  {
   "cell_type": "code",
   "execution_count": null,
   "metadata": {},
   "outputs": [],
   "source": []
  }
 ],
 "metadata": {
  "kernelspec": {
   "display_name": "Python (learn-env)",
   "language": "python",
   "name": "learn-env"
  },
  "language_info": {
   "codemirror_mode": {
    "name": "ipython",
    "version": 3
   },
   "file_extension": ".py",
   "mimetype": "text/x-python",
   "name": "python",
   "nbconvert_exporter": "python",
   "pygments_lexer": "ipython3",
   "version": "3.8.16"
  }
 },
 "nbformat": 4,
 "nbformat_minor": 2
}
