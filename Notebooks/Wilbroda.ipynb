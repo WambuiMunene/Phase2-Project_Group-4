{
 "cells": [
  {
   "cell_type": "markdown",
   "metadata": {},
   "source": [
    "# VEHICLE ANALYSIS FOR PURCHASE BY A CAR HIRE COMPANY"
   ]
  },
  {
   "cell_type": "markdown",
   "metadata": {},
   "source": [
    "# Introduction"
   ]
  },
  {
   "cell_type": "markdown",
   "metadata": {},
   "source": [
    "As a car hire company, understanding the factors influencing fuel efficiency, maintenance costs, and customer preferences is critical to selecting the right mix of vehicles. This project aims to analyze car makes and models using SQL for data extraction and linear regression to identify trends in fuel consumption, engine performance, and other key metrics. By leveraging historical data on vehicle specifications and performance, we can predict which car models align best with our business needs, ensuring a balance between operational costs and customer satisfaction."
   ]
  },
  {
   "cell_type": "markdown",
   "metadata": {},
   "source": [
    "## Problem Statement"
   ]
  },
  {
   "cell_type": "markdown",
   "metadata": {},
   "source": [
    "In the car hire industry, selecting the right vehicles for a fleet is crucial to balancing customer satisfaction and operational efficiency. Car hire companies must choose vehicles that not only meet customer expectations in terms of reliability and comfort but also minimize costs related to fuel, maintenance, and depreciation. With numerous car makes and models available, each with unique specifications and performance metrics, making data-driven decisions becomes essential to avoid costly mistakes in fleet investments.\n",
    "\n",
    "As a data scientist I have been tasked to analyze historical data on various car makes and models to determine the most fuel effective vehicle make and models with the least carbon emmisions. By examining these factors we aim to create a model that predicts the best car choices. "
   ]
  },
  {
   "cell_type": "markdown",
   "metadata": {},
   "source": [
    "## Objectives"
   ]
  },
  {
   "cell_type": "markdown",
   "metadata": {},
   "source": [
    "#### Data Extraction and Cleaning: \n",
    "Use SQL to extract and clean the dataset, ensuring it is suitable for analysis by removing any inconsistencies, handling missing values, and organizing data to facilitate a smooth analysis.\n",
    "\n",
    "#### Exploratory Data Analysis (EDA): \n",
    "Analyze the dataset to understand key variables, distributions, and trends, and seek to identify relationships and outliers that may impact our final model.\n",
    "\n",
    "#### Business Objective: \n",
    "Identify and recommend to our client from each vehicle class, (3-5) makes that give the best fuel efficiency and have the lowest CO2 emissions.\n",
    "\n",
    "a. Investigate how different car makes perform in terms of fuel efficiency and CO2 emmissions\n",
    "b. Investigate how Engine Size affects fuel efficiency and CO2 emissions\n",
    "c. Investigate how Transmission Type affects fuel efficiency\n",
    "d. Investigate how Fuel Type affects CO2 emissions\n",
    "\n",
    "\n",
    "#### Statistical Tests\n",
    "\n",
    "Trend Analysis\n",
    "a. Trend analysis to identify average fuel consumption for the top 3 makes in each vehicle class over time\n",
    "b. Trend analysis to identify average emissions for the top 3 makes in each vehicle class over time\n",
    "\n",
    "#### Regression Analysis\n",
    "a. Effect of engine size on fuel efficiency\n",
    "b. Effect of fuel consumption as measured by 'Comb (L/100 KM) and emissions\n",
    "c. Effect of Transmission type on fuel efficiency\n",
    "d. Effect of fuel type on emissions\n",
    "\n",
    "#### Hypothesis Testing\n",
    "a. Test whether the relationships obtaing by our regression models above are statistically significant\n",
    "\n",
    "\n",
    "#### Summarize our findings and give conclusions\n",
    "Give recomendations to our client on the right mix of car makes to consider for their business, that will give them the best fuel economy and low CO2 emissions.\n",
    "Provide them with a summary of the various factors (car attributes) that have statistically significant impact on fuel efficiency and CO2 emissions."
   ]
  },
  {
   "cell_type": "markdown",
   "metadata": {},
   "source": [
    "## Data Understanding"
   ]
  },
  {
   "cell_type": "code",
   "execution_count": 1,
   "metadata": {},
   "outputs": [],
   "source": [
    "#Import necessary liabraries\n",
    "import pandas as pd\n",
    "import numpy as np\n",
    "import seaborn as sns\n",
    "import matplotlib.pyplot as plt\n",
    "\n",
    "%matplotlib inline"
   ]
  },
  {
   "cell_type": "code",
   "execution_count": 2,
   "metadata": {},
   "outputs": [],
   "source": [
    "#Load the Vehicles data Fuel_Consumption_2000_2022.csv as vehicles_df\n",
    "# in order to handle the large data set more efficiently the low memory has been set to False\n",
    "vehicles_df = pd.read_csv(\"Fuel_Consumption_2000_2022.csv\", index_col=0, low_memory=False, encoding='ISO-8859-1')\n"
   ]
  },
  {
   "cell_type": "code",
   "execution_count": 3,
   "metadata": {},
   "outputs": [
    {
     "name": "stdout",
     "output_type": "stream",
     "text": [
      "The shape of the DataFrame: (22556, 12)\n",
      "The number of rows: 22556\n",
      "The number of columns: 12\n"
     ]
    }
   ],
   "source": [
    "#Checking the structure of the data\n",
    "print('The shape of the DataFrame:' , vehicles_df.shape)\n",
    "num_rows, num_columns= vehicles_df.shape\n",
    "print('The number of rows:', num_rows)\n",
    "print('The number of columns:', num_columns)"
   ]
  },
  {
   "cell_type": "code",
   "execution_count": 4,
   "metadata": {},
   "outputs": [
    {
     "data": {
      "text/html": [
       "<div>\n",
       "<style scoped>\n",
       "    .dataframe tbody tr th:only-of-type {\n",
       "        vertical-align: middle;\n",
       "    }\n",
       "\n",
       "    .dataframe tbody tr th {\n",
       "        vertical-align: top;\n",
       "    }\n",
       "\n",
       "    .dataframe thead th {\n",
       "        text-align: right;\n",
       "    }\n",
       "</style>\n",
       "<table border=\"1\" class=\"dataframe\">\n",
       "  <thead>\n",
       "    <tr style=\"text-align: right;\">\n",
       "      <th></th>\n",
       "      <th>MAKE</th>\n",
       "      <th>MODEL</th>\n",
       "      <th>VEHICLE CLASS</th>\n",
       "      <th>ENGINE SIZE</th>\n",
       "      <th>CYLINDERS</th>\n",
       "      <th>TRANSMISSION</th>\n",
       "      <th>FUEL</th>\n",
       "      <th>FUEL CONSUMPTION</th>\n",
       "      <th>HWY (L/100 km)</th>\n",
       "      <th>COMB (L/100 km)</th>\n",
       "      <th>COMB (mpg)</th>\n",
       "      <th>EMISSIONS</th>\n",
       "    </tr>\n",
       "    <tr>\n",
       "      <th>YEAR</th>\n",
       "      <th></th>\n",
       "      <th></th>\n",
       "      <th></th>\n",
       "      <th></th>\n",
       "      <th></th>\n",
       "      <th></th>\n",
       "      <th></th>\n",
       "      <th></th>\n",
       "      <th></th>\n",
       "      <th></th>\n",
       "      <th></th>\n",
       "      <th></th>\n",
       "    </tr>\n",
       "  </thead>\n",
       "  <tbody>\n",
       "    <tr>\n",
       "      <th>2000</th>\n",
       "      <td>ACURA</td>\n",
       "      <td>1.6EL</td>\n",
       "      <td>COMPACT</td>\n",
       "      <td>1.6</td>\n",
       "      <td>4</td>\n",
       "      <td>A4</td>\n",
       "      <td>X</td>\n",
       "      <td>9.2</td>\n",
       "      <td>6.7</td>\n",
       "      <td>8.1</td>\n",
       "      <td>35</td>\n",
       "      <td>186</td>\n",
       "    </tr>\n",
       "    <tr>\n",
       "      <th>2000</th>\n",
       "      <td>ACURA</td>\n",
       "      <td>1.6EL</td>\n",
       "      <td>COMPACT</td>\n",
       "      <td>1.6</td>\n",
       "      <td>4</td>\n",
       "      <td>M5</td>\n",
       "      <td>X</td>\n",
       "      <td>8.5</td>\n",
       "      <td>6.5</td>\n",
       "      <td>7.6</td>\n",
       "      <td>37</td>\n",
       "      <td>175</td>\n",
       "    </tr>\n",
       "    <tr>\n",
       "      <th>2000</th>\n",
       "      <td>ACURA</td>\n",
       "      <td>3.2TL</td>\n",
       "      <td>MID-SIZE</td>\n",
       "      <td>3.2</td>\n",
       "      <td>6</td>\n",
       "      <td>AS5</td>\n",
       "      <td>Z</td>\n",
       "      <td>12.2</td>\n",
       "      <td>7.4</td>\n",
       "      <td>10.0</td>\n",
       "      <td>28</td>\n",
       "      <td>230</td>\n",
       "    </tr>\n",
       "    <tr>\n",
       "      <th>2000</th>\n",
       "      <td>ACURA</td>\n",
       "      <td>3.5RL</td>\n",
       "      <td>MID-SIZE</td>\n",
       "      <td>3.5</td>\n",
       "      <td>6</td>\n",
       "      <td>A4</td>\n",
       "      <td>Z</td>\n",
       "      <td>13.4</td>\n",
       "      <td>9.2</td>\n",
       "      <td>11.5</td>\n",
       "      <td>25</td>\n",
       "      <td>264</td>\n",
       "    </tr>\n",
       "    <tr>\n",
       "      <th>2000</th>\n",
       "      <td>ACURA</td>\n",
       "      <td>INTEGRA</td>\n",
       "      <td>SUBCOMPACT</td>\n",
       "      <td>1.8</td>\n",
       "      <td>4</td>\n",
       "      <td>A4</td>\n",
       "      <td>X</td>\n",
       "      <td>10.0</td>\n",
       "      <td>7.0</td>\n",
       "      <td>8.6</td>\n",
       "      <td>33</td>\n",
       "      <td>198</td>\n",
       "    </tr>\n",
       "  </tbody>\n",
       "</table>\n",
       "</div>"
      ],
      "text/plain": [
       "       MAKE    MODEL VEHICLE CLASS  ENGINE SIZE  CYLINDERS TRANSMISSION FUEL  \\\n",
       "YEAR                                                                           \n",
       "2000  ACURA    1.6EL       COMPACT          1.6          4           A4    X   \n",
       "2000  ACURA    1.6EL       COMPACT          1.6          4           M5    X   \n",
       "2000  ACURA    3.2TL      MID-SIZE          3.2          6          AS5    Z   \n",
       "2000  ACURA    3.5RL      MID-SIZE          3.5          6           A4    Z   \n",
       "2000  ACURA  INTEGRA    SUBCOMPACT          1.8          4           A4    X   \n",
       "\n",
       "      FUEL CONSUMPTION  HWY (L/100 km)  COMB (L/100 km)  COMB (mpg)  EMISSIONS  \n",
       "YEAR                                                                            \n",
       "2000               9.2             6.7              8.1          35        186  \n",
       "2000               8.5             6.5              7.6          37        175  \n",
       "2000              12.2             7.4             10.0          28        230  \n",
       "2000              13.4             9.2             11.5          25        264  \n",
       "2000              10.0             7.0              8.6          33        198  "
      ]
     },
     "execution_count": 4,
     "metadata": {},
     "output_type": "execute_result"
    }
   ],
   "source": [
    "# Previewing the top of the dataset\n",
    "vehicles_df.head()"
   ]
  },
  {
   "cell_type": "code",
   "execution_count": 5,
   "metadata": {},
   "outputs": [
    {
     "name": "stdout",
     "output_type": "stream",
     "text": [
      "<class 'pandas.core.frame.DataFrame'>\n",
      "Index: 22556 entries, 2000 to 2022\n",
      "Data columns (total 12 columns):\n",
      " #   Column            Non-Null Count  Dtype  \n",
      "---  ------            --------------  -----  \n",
      " 0   MAKE              22556 non-null  object \n",
      " 1   MODEL             22556 non-null  object \n",
      " 2   VEHICLE CLASS     22556 non-null  object \n",
      " 3   ENGINE SIZE       22556 non-null  float64\n",
      " 4   CYLINDERS         22556 non-null  int64  \n",
      " 5   TRANSMISSION      22556 non-null  object \n",
      " 6   FUEL              22556 non-null  object \n",
      " 7   FUEL CONSUMPTION  22556 non-null  float64\n",
      " 8   HWY (L/100 km)    22556 non-null  float64\n",
      " 9   COMB (L/100 km)   22556 non-null  float64\n",
      " 10  COMB (mpg)        22556 non-null  int64  \n",
      " 11  EMISSIONS         22556 non-null  int64  \n",
      "dtypes: float64(4), int64(3), object(5)\n",
      "memory usage: 2.2+ MB\n"
     ]
    }
   ],
   "source": [
    "#Examine the structure of the data to check if:\n",
    "    # the data types are correct based on what the expected data in the fields need to display\n",
    "    # the non-null count column helps to identify columns that have missing values\n",
    "vehicles_df.info()"
   ]
  },
  {
   "cell_type": "markdown",
   "metadata": {},
   "source": [
    "The Data types are in line with what we expect. No columns have missing values\n"
   ]
  },
  {
   "cell_type": "code",
   "execution_count": 6,
   "metadata": {},
   "outputs": [
    {
     "data": {
      "text/plain": [
       "MAKE                0\n",
       "MODEL               0\n",
       "VEHICLE CLASS       0\n",
       "ENGINE SIZE         0\n",
       "CYLINDERS           0\n",
       "TRANSMISSION        0\n",
       "FUEL                0\n",
       "FUEL CONSUMPTION    0\n",
       "HWY (L/100 km)      0\n",
       "COMB (L/100 km)     0\n",
       "COMB (mpg)          0\n",
       "EMISSIONS           0\n",
       "dtype: int64"
      ]
     },
     "execution_count": 6,
     "metadata": {},
     "output_type": "execute_result"
    }
   ],
   "source": [
    "# checking for any missing values\n",
    "vehicles_df.isna().sum()"
   ]
  },
  {
   "cell_type": "code",
   "execution_count": 7,
   "metadata": {},
   "outputs": [
    {
     "data": {
      "text/plain": [
       "Index(['MAKE', 'MODEL', 'VEHICLE CLASS', 'ENGINE SIZE', 'CYLINDERS',\n",
       "       'TRANSMISSION', 'FUEL', 'FUEL CONSUMPTION', 'HWY (L/100 km)',\n",
       "       'COMB (L/100 km)', 'COMB (mpg)', 'EMISSIONS'],\n",
       "      dtype='object')"
      ]
     },
     "execution_count": 7,
     "metadata": {},
     "output_type": "execute_result"
    }
   ],
   "source": [
    "vehicles_df.columns"
   ]
  },
  {
   "cell_type": "code",
   "execution_count": 8,
   "metadata": {},
   "outputs": [
    {
     "name": "stdout",
     "output_type": "stream",
     "text": [
      "Number of duplicated rows: 4975\n"
     ]
    }
   ],
   "source": [
    "# Count the number of duplicated rows\n",
    "num_duplicates = vehicles_df.duplicated().sum()\n",
    "print(f\"Number of duplicated rows: {num_duplicates}\")"
   ]
  },
  {
   "cell_type": "code",
   "execution_count": 9,
   "metadata": {},
   "outputs": [
    {
     "name": "stdout",
     "output_type": "stream",
     "text": [
      "Number of duplicated rows after removal: 4975\n"
     ]
    }
   ],
   "source": [
    "# Drop duplicated rows and keep the first occurrence\n",
    "duplicate_df = vehicles_df.drop_duplicates()\n",
    "\n",
    "# Verify if duplicates have been removed\n",
    "print(\"Number of duplicated rows after removal:\", vehicles_df.duplicated().sum())"
   ]
  },
  {
   "cell_type": "code",
   "execution_count": 11,
   "metadata": {},
   "outputs": [
    {
     "ename": "NameError",
     "evalue": "name 'numerical_columns' is not defined",
     "output_type": "error",
     "traceback": [
      "\u001b[1;31m---------------------------------------------------------------------------\u001b[0m",
      "\u001b[1;31mNameError\u001b[0m                                 Traceback (most recent call last)",
      "Cell \u001b[1;32mIn[11], line 6\u001b[0m\n\u001b[0;32m      4\u001b[0m \u001b[38;5;66;03m# Plot histograms for each numerical column\u001b[39;00m\n\u001b[0;32m      5\u001b[0m plt\u001b[38;5;241m.\u001b[39mfigure(figsize\u001b[38;5;241m=\u001b[39m(\u001b[38;5;241m15\u001b[39m, \u001b[38;5;241m10\u001b[39m))\n\u001b[1;32m----> 6\u001b[0m \u001b[38;5;28;01mfor\u001b[39;00m i, column \u001b[38;5;129;01min\u001b[39;00m \u001b[38;5;28menumerate\u001b[39m(\u001b[43mnumerical_columns\u001b[49m, \u001b[38;5;241m1\u001b[39m):\n\u001b[0;32m      7\u001b[0m     plt\u001b[38;5;241m.\u001b[39msubplot(\u001b[38;5;241m3\u001b[39m, \u001b[38;5;241m3\u001b[39m, i)  \u001b[38;5;66;03m# Adjust (3, 3) based on the number of numerical columns\u001b[39;00m\n\u001b[0;32m      8\u001b[0m     sns\u001b[38;5;241m.\u001b[39mhistplot(vehicles_df[column]\u001b[38;5;241m.\u001b[39mdropna(), bins\u001b[38;5;241m=\u001b[39m\u001b[38;5;241m30\u001b[39m, color\u001b[38;5;241m=\u001b[39m\u001b[38;5;124m'\u001b[39m\u001b[38;5;124mskyblue\u001b[39m\u001b[38;5;124m'\u001b[39m, edgecolor\u001b[38;5;241m=\u001b[39m\u001b[38;5;124m'\u001b[39m\u001b[38;5;124mblack\u001b[39m\u001b[38;5;124m'\u001b[39m)\n",
      "\u001b[1;31mNameError\u001b[0m: name 'numerical_columns' is not defined"
     ]
    },
    {
     "data": {
      "text/plain": [
       "<Figure size 1500x1000 with 0 Axes>"
      ]
     },
     "metadata": {},
     "output_type": "display_data"
    }
   ],
   "source": [
    "# Replace infinite values with NaN in the DataFrame\n",
    "vehicles_df.replace([np.inf, -np.inf], np.nan, inplace=True)\n",
    "\n",
    "# Plot histograms for each numerical column\n",
    "plt.figure(figsize=(15, 10))\n",
    "for i, column in enumerate(numerical_columns, 1):\n",
    "    plt.subplot(3, 3, i)  # Adjust (3, 3) based on the number of numerical columns\n",
    "    sns.histplot(vehicles_df[column].dropna(), bins=30, color='skyblue', edgecolor='black')\n",
    "    plt.title(f'Histogram of {column}')\n",
    "    plt.xlabel(column)\n",
    "    plt.ylabel('Frequency')\n",
    "\n",
    "plt.tight_layout()\n",
    "plt.show()\n",
    "\n"
   ]
  },
  {
   "cell_type": "markdown",
   "metadata": {},
   "source": [
    "# Explortory Data Analysis"
   ]
  },
  {
   "cell_type": "markdown",
   "metadata": {},
   "source": [
    "## Univariate Analysis for numerical columns"
   ]
  },
  {
   "cell_type": "code",
   "execution_count": null,
   "metadata": {},
   "outputs": [],
   "source": [
    "#Understanding the data set\n",
    "vehicles_df.describe()"
   ]
  },
  {
   "cell_type": "code",
   "execution_count": null,
   "metadata": {},
   "outputs": [],
   "source": [
    "# Checking for outliers in the numerical columns\n",
    "# Box plots will be used to visualize outliers\n",
    "# Plot a boxplot for each numerical column\n",
    "vehicles_df.boxplot(figsize=(12, 8), vert=False)\n",
    "plt.title(\"Boxplot for Outlier Detection\")\n",
    "plt.show()"
   ]
  },
  {
   "cell_type": "markdown",
   "metadata": {},
   "source": [
    "Outliers: \n",
    "\n",
    "There are substantial outliers, especially in EMISSIONS, HWY (L/100 km), COMB (L/100 km), and COMB (mpg). These outliers represent vehicles with either very high or low values for emissions, fuel efficiency, and fuel consumption.\n",
    "\n",
    "Skewed Distributions: \n",
    "\n",
    "For variables like EMISSIONS and COMB (mpg), the distributions are skewed, indicating that the dataset contains vehicles with extreme performance characteristics (either very eco-friendly or not at all).\n",
    "This boxplot analysis suggests that the dataset contains a diverse range of vehicle types, from highly fuel-efficient, low-emission cars to less efficient, high-emission models. For the car hire company, I recommend a focus on vehicles within the main distribution ranges (non-outliers) for a more consistent and reliable fleet, while carefully considering any outliers that align with specific customer needs (e.g., eco-friendly vehicles or high-performance models)."
   ]
  },
  {
   "cell_type": "code",
   "execution_count": null,
   "metadata": {},
   "outputs": [],
   "source": [
    "# Checking for outliers using Z-scores\n",
    "# Calculate z-scores for numerical columns\n",
    "\n",
    "from scipy.stats import zscore\n",
    "\n",
    "z_scores = vehicles_df.select_dtypes(include='number').apply(zscore)\n",
    "\n",
    "# Flag rows with a z-score > 3 or < -3 as outliers\n",
    "outliers = (z_scores.abs() > 3)\n",
    "outliers_count = outliers.sum()\n",
    "print(\"Outliers count per column using Z-scores:\")\n",
    "print(outliers_count)"
   ]
  },
  {
   "cell_type": "markdown",
   "metadata": {},
   "source": [
    "These outliers show considerable variability in your dataset across engine size, fuel consumption, and emissions. This diversity suggests that your fleet options range widely in efficiency and environmental impact. For a car hire company, understanding these extremes could be useful to cater to different customer needs (e.g., offering both eco-friendly and high-performance options) and to balance operational costs through informed fleet selection"
   ]
  },
  {
   "cell_type": "code",
   "execution_count": null,
   "metadata": {},
   "outputs": [],
   "source": [
    "# Define a variable for numerical columns\n",
    "numerical_columns = vehicles_df.select_dtypes(include='number').columns\n",
    "\n",
    "# Calculate IQR bounds for each numerical column\n",
    "iqr_bounds = {}\n",
    "\n",
    "for column in numerical_columns:\n",
    "    Q1 = vehicles_df[column].quantile(0.25)\n",
    "    Q3 = vehicles_df[column].quantile(0.75)\n",
    "    IQR = Q3 - Q1\n",
    "    lower_bound = Q1 - 1.5 * IQR\n",
    "    upper_bound = Q3 + 1.5 * IQR\n",
    "    iqr_bounds[column] = {'Lower Bound': lower_bound, 'Upper Bound': upper_bound}\n",
    "\n",
    "# Display the IQR bounds for each column\n",
    "for column, bounds in iqr_bounds.items():\n",
    "    print(f\"{column} - Lower Bound: {bounds['Lower Bound']}, Upper Bound: {bounds['Upper Bound']}\")"
   ]
  },
  {
   "cell_type": "code",
   "execution_count": null,
   "metadata": {},
   "outputs": [],
   "source": [
    "#Removing outliers\n",
    "\n",
    "# Remove outliers based on IQR for each numerical column\n",
    "for column in numerical_columns:\n",
    "    Q1 = vehicles_df[column].quantile(0.25)\n",
    "    Q3 = vehicles_df[column].quantile(0.75)\n",
    "    IQR = Q3 - Q1\n",
    "    lower_bound = Q1 - 1.5 * IQR\n",
    "    upper_bound = Q3 + 1.5 * IQR\n",
    "    \n",
    "    # Filter out rows where the values are outside the IQR bounds\n",
    "    vehicles_df1 = vehicles_df[(vehicles_df[column] >= lower_bound) & (vehicles_df[column] <= upper_bound)]\n",
    "\n",
    "# Display the DataFrame after removing outliers\n",
    "print(\"DataFrame after removing outliers:\")\n",
    "print(vehicles_df1)\n"
   ]
  },
  {
   "cell_type": "code",
   "execution_count": null,
   "metadata": {},
   "outputs": [],
   "source": [
    "vehicles_df1.describe()"
   ]
  },
  {
   "cell_type": "code",
   "execution_count": null,
   "metadata": {},
   "outputs": [],
   "source": [
    "vehicles_df1.info()"
   ]
  },
  {
   "cell_type": "markdown",
   "metadata": {},
   "source": [
    "# Statistical Analysis"
   ]
  },
  {
   "cell_type": "markdown",
   "metadata": {},
   "source": [
    "#### Univariate Analysis for the Categorical Columns"
   ]
  },
  {
   "cell_type": "code",
   "execution_count": null,
   "metadata": {},
   "outputs": [],
   "source": [
    "# Top Cars\n",
    "# Top 10 Car Makes\n",
    "top_n = 20\n",
    "\n",
    "top_makes = vehicles_df1['MAKE'].value_counts().head(top_n)\n",
    "\n",
    "plt.figure(figsize=(10, 8))\n",
    "sns.barplot(y=top_makes.index, x=top_makes.values)\n",
    "plt.title(f'Top {top_n} Vehicle Makes')\n",
    "plt.xlabel('Count')\n",
    "plt.ylabel('Vehicle Make')\n",
    "plt.tight_layout()\n",
    "plt.show()\n",
    "\n",
    "# Top Car Models\n",
    "top_n = 20\n",
    "\n",
    "top_models = vehicles_df1['MODEL'].value_counts().head(top_n)\n",
    "\n",
    "plt.figure(figsize=(10, 8))\n",
    "sns.barplot(y=top_models.index, x=top_models.values)\n",
    "plt.title(f'Top {top_n} Vehicle Models')\n",
    "plt.xlabel('Count')\n",
    "plt.ylabel('Vehicle Models')\n",
    "plt.tight_layout()\n",
    "plt.show()"
   ]
  },
  {
   "cell_type": "code",
   "execution_count": null,
   "metadata": {},
   "outputs": [],
   "source": [
    "# 2. Distribution Plots\n",
    "plt.figure(figsize=(14, 8))\n",
    "\n",
    "# Fuel consumption in the city\n",
    "plt.subplot(2, 2, 1)\n",
    "sns.histplot(vehicles_df1['FUEL CONSUMPTION'], kde=True, color='skyblue')\n",
    "plt.title('City Fuel Consumption Distribution (L/100 km)')\n",
    "plt.xlabel('Fuel Consumption (L/100 km)')\n",
    "\n",
    "# Emissions\n",
    "plt.subplot(2, 2, 2)\n",
    "sns.histplot(vehicles_df1['EMISSIONS'], kde=True, color='salmon')\n",
    "plt.title('Emissions Distribution (g/km)')\n",
    "plt.xlabel('Emissions (g/km)')\n",
    "\n",
    "# Engine Size\n",
    "plt.subplot(2, 2, 3)\n",
    "sns.histplot(vehicles_df1['ENGINE SIZE'], kde=True, color='lightgreen')\n",
    "plt.title('Engine Size Distribution (L)')\n",
    "plt.xlabel('Engine Size (L)')\n",
    "\n",
    "# Number of Cylinders\n",
    "plt.subplot(2, 2, 4)\n",
    "sns.countplot(x=vehicles_df1['CYLINDERS'], palette='viridis')\n",
    "plt.title('Distribution of Cylinder Counts')\n",
    "plt.xlabel('Cylinders')\n",
    "\n",
    "plt.tight_layout()\n",
    "plt.show()"
   ]
  },
  {
   "cell_type": "markdown",
   "metadata": {},
   "source": [
    "## Bivariate analysis"
   ]
  },
  {
   "cell_type": "markdown",
   "metadata": {},
   "source": [
    "I will analyze two variables simultaneously to understand the relationship between them"
   ]
  },
  {
   "cell_type": "markdown",
   "metadata": {},
   "source": [
    "### Correlation Analysis"
   ]
  },
  {
   "cell_type": "code",
   "execution_count": null,
   "metadata": {},
   "outputs": [],
   "source": [
    "# Define a variable for numerical columns\n",
    "numerical_columns = vehicles_df1.select_dtypes(include='number').columns\n",
    "\n",
    "# Calculate the correlation matrix\n",
    "correlation_matrix = vehicles_df1[numerical_columns].corr()\n",
    "\n",
    "# Display the correlation matrix as a heatmap with values\n",
    "plt.figure(figsize=(10, 8))\n",
    "sns.heatmap(correlation_matrix, annot=True, cmap='coolwarm', square=True, fmt=\".2f\", annot_kws={\"size\": 10})\n",
    "plt.title('Correlation Matrix for Numerical Columns')\n",
    "plt.tight_layout()\n",
    "plt.show()"
   ]
  },
  {
   "cell_type": "markdown",
   "metadata": {},
   "source": [
    "Positive Correlations:\n",
    "Fuel consumption, emissions, and engine size have high positive correlations, indicating that vehicles with larger engines and more cylinders typically consume more fuel and produce higher emissions.\n",
    "\n",
    "Negative Correlations:\n",
    "Combined MPG (miles per gallon) shows a strong negative correlation with fuel consumption and emissions, as expected. Higher MPG indicates better fuel efficiency, leading to lower emissions."
   ]
  },
  {
   "cell_type": "markdown",
   "metadata": {},
   "source": [
    "### EMISSIONS vs.MAKE AND MODEL\n",
    "Objective is to determine for each class the top 3 make and model has the highest emissions"
   ]
  },
  {
   "cell_type": "code",
   "execution_count": null,
   "metadata": {},
   "outputs": [],
   "source": [
    "# Group by VEHICLE CLASS, MAKE, and MODEL, then calculate the mean emissions\n",
    "emissions_by_class_make_model = vehicles_df1.groupby(['VEHICLE CLASS', 'MAKE', 'MODEL'])['EMISSIONS'].mean().reset_index()\n",
    "\n",
    "# Sort by emissions within each vehicle class and select the top 3 emitters per class\n",
    "top_emitters_per_class = emissions_by_class_make_model.sort_values(['VEHICLE CLASS', 'EMISSIONS'], ascending=[True, False]) \\\n",
    "                                                      .groupby('VEHICLE CLASS').head(3)\n",
    "\n",
    "# Display the result\n",
    "print(\"Top 3 Car Make and Model with Highest Emissions by Vehicle Class:\")\n",
    "print(top_emitters_per_class)"
   ]
  },
  {
   "cell_type": "markdown",
   "metadata": {},
   "source": [
    "#### Trend Analysis : Fuel Efficiency and Emissions by Year"
   ]
  },
  {
   "cell_type": "code",
   "execution_count": null,
   "metadata": {},
   "outputs": [],
   "source": [
    "plt.figure(figsize=(14, 6))\n",
    "\n",
    "# Average fuel consumption over years\n",
    "plt.subplot(1, 2, 1)\n",
    "sns.lineplot(data=vehicles_df1, x='YEAR', y='COMB (L/100 km)', estimator='mean', color='b')\n",
    "plt.title('Average Combined Fuel Consumption Over Years')\n",
    "plt.xlabel('Year')\n",
    "plt.ylabel('Combined Fuel Consumption (L/100 km)')\n",
    "\n",
    "# Average emissions over years\n",
    "plt.subplot(1, 2, 2)\n",
    "sns.lineplot(data=vehicles_df1, x='YEAR', y='EMISSIONS', estimator='mean', color='r')\n",
    "plt.title('Average Emissions Over Years')\n",
    "plt.xlabel('Year')\n",
    "plt.ylabel('Emissions (g/km)')\n",
    "\n",
    "plt.tight_layout()\n",
    "plt.show()"
   ]
  },
  {
   "cell_type": "markdown",
   "metadata": {},
   "source": [
    "This heatmap shows which models are more common for each make, helping to identify popular choices that might be preferred by customers or more readily available in the market.\n",
    "Popular Models: The Audi A4 QUATTRO, Volkswagen Jetta, Toyota Camry, and Toyota Corolla are among the most frequently occurring models in this subset, suggesting they may be popular choices"
   ]
  },
  {
   "cell_type": "code",
   "execution_count": null,
   "metadata": {},
   "outputs": [],
   "source": [
    "# Top 10 Most Fuel-Efficient Models\n",
    "\n",
    "# Sort by fuel consumption and select the top 10 most fuel-efficient cars\n",
    "top_fuel_efficient = vehicles_df1[['MAKE', 'MODEL', 'FUEL CONSUMPTION']].sort_values(by='FUEL CONSUMPTION').head(30)\n",
    "\n",
    "# Combine 'MAKE' and 'MODEL' columns for concise labels\n",
    "top_fuel_efficient['Car'] = top_fuel_efficient['MAKE'] + \" \" + top_fuel_efficient['MODEL']\n",
    "\n",
    "# Set up the plot\n",
    "plt.figure(figsize=(10, 6))\n",
    "bars = plt.barh(top_fuel_efficient['Car'], top_fuel_efficient['FUEL CONSUMPTION'], color='steelblue', edgecolor='black')\n",
    "\n",
    "# Add data labels to each bar\n",
    "for bar in bars:\n",
    "    plt.text(\n",
    "        bar.get_width() + 0.1, \n",
    "        bar.get_y() + bar.get_height() / 2, \n",
    "        f'{bar.get_width():.1f} L/100km', \n",
    "        va='center', \n",
    "        ha='left', \n",
    "        fontsize=10\n",
    "    )\n",
    "\n",
    "# Customizations for clarity\n",
    "plt.xlabel('Fuel Consumption (L/100 km)', fontsize=12)\n",
    "plt.title('Fuel-Efficient Cars', fontsize=14)\n",
    "plt.gca().invert_yaxis()  # Show the most fuel-efficient cars at the top\n",
    "plt.tight_layout()\n",
    "plt.show()\n"
   ]
  },
  {
   "cell_type": "markdown",
   "metadata": {},
   "source": [
    "# Modelling and Evaluation"
   ]
  },
  {
   "cell_type": "markdown",
   "metadata": {},
   "source": [
    "### Hypothesis\n",
    "#### Null Hypothesis (H₀): There is no relationship between combined fuel consumption (COMB L/100 km) and emissions. \n",
    "#### Alternative Hypothesis (H1):There is no relationship between combined fuel consumption (COMB L/100 km) and emissions. "
   ]
  },
  {
   "cell_type": "code",
   "execution_count": null,
   "metadata": {},
   "outputs": [],
   "source": [
    "from sklearn.model_selection import train_test_split\n",
    "from sklearn.linear_model import LinearRegression\n",
    "from sklearn.metrics import mean_squared_error, r2_score\n",
    "\n",
    "\n",
    "# Define the independent variable (X) and dependent variable (y)\n",
    "X = vehicles_df[['COMB (L/100 km)']]  # Independent variable\n",
    "y = vehicles_df['EMISSIONS']          # Dependent variable\n",
    "\n",
    "# Split the data into training and testing sets (80% train, 20% test)\n",
    "X_train, X_test, y_train, y_test = train_test_split(X, y, test_size=0.2, random_state=42)\n",
    "\n",
    "# Initialize the Linear Regression model\n",
    "model = LinearRegression()\n",
    "\n",
    "# Fit the model on the training data\n",
    "model.fit(X_train, y_train)\n",
    "\n",
    "# Make predictions on the test data\n",
    "y_pred = model.predict(X_test)\n",
    "\n",
    "# Calculate metrics\n",
    "mse = mean_squared_error(y_test, y_pred)\n",
    "r2 = r2_score(y_test, y_pred)\n",
    "\n",
    "# Display the results\n",
    "print(f\"R-squared (R2): {r2}\")\n",
    "print(\"Coefficient for COMB (L/100 km):\", model.coef_[0])\n"
   ]
  },
  {
   "cell_type": "markdown",
   "metadata": {},
   "source": [
    "\n",
    "The R-squared value, or the coefficient of determination, indicates how well the model explains the variance in the dependent variable (emissions).\n",
    "An R-squared of 0.852 means that approximately 85.2% of the variation in emissions is explained by combined fuel consumption (COMB (L/100 km)). This is a high R-squared, suggesting that fuel consumption is a strong predictor of emissions in your datase"
   ]
  },
  {
   "cell_type": "markdown",
   "metadata": {},
   "source": [
    "The coefficient represents the average change in emissions for each one-unit increase in combined fuel consumption.\n",
    "In this case, for every additional unit of combined fuel consumption (L/100 km), emissions increase by approximately 18.83 units. This positive coefficient supports the hypothesis that higher fuel consumption is associated with higher emissions"
   ]
  },
  {
   "cell_type": "code",
   "execution_count": null,
   "metadata": {},
   "outputs": [],
   "source": []
  }
 ],
 "metadata": {
  "kernelspec": {
   "display_name": "Python (learn-env)",
   "language": "python",
   "name": "learn-env"
  },
  "language_info": {
   "codemirror_mode": {
    "name": "ipython",
    "version": 3
   },
   "file_extension": ".py",
   "mimetype": "text/x-python",
   "name": "python",
   "nbconvert_exporter": "python",
   "pygments_lexer": "ipython3",
   "version": "3.8.16"
  }
 },
 "nbformat": 4,
 "nbformat_minor": 4
}
